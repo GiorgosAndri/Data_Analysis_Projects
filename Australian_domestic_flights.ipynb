{
 "cells": [
  {
   "cell_type": "markdown",
   "id": "e0f160e3-2c5b-4a1f-ab25-c63c5c198c32",
   "metadata": {},
   "source": [
    "Australian domestic flights (FOR ASSESSMENT)"
   ]
  },
  {
   "cell_type": "code",
   "execution_count": 1,
   "id": "f60c6984-9f0d-49af-829d-df5fae9d1d81",
   "metadata": {},
   "outputs": [
    {
     "name": "stderr",
     "output_type": "stream",
     "text": [
      "\n",
      "KeyboardInterrupt\n",
      "\n"
     ]
    }
   ],
   "source": [
    "import pandas as pd\n",
    "import numpy as np"
   ]
  },
  {
   "cell_type": "code",
   "execution_count": null,
   "id": "14eb982d-2901-40a1-9439-cf4401e38c99",
   "metadata": {},
   "outputs": [],
   "source": [
    "df = pd.read_csv('data.csv')"
   ]
  },
  {
   "cell_type": "code",
   "execution_count": null,
   "id": "e3e65e4d-0917-4034-8659-bf5811907c21",
   "metadata": {},
   "outputs": [],
   "source": [
    "df"
   ]
  },
  {
   "cell_type": "markdown",
   "id": "4c6f4fa4-47cf-47f7-b387-85b3c9d22db9",
   "metadata": {},
   "source": [
    "1)What were the 10 busiest routes for the year, measured by actual passenger trips, and how\n",
    "many actual passenger trips did they have?"
   ]
  },
  {
   "cell_type": "code",
   "execution_count": null,
   "id": "9c54e408-1296-46f4-81a6-3365524f8a74",
   "metadata": {},
   "outputs": [],
   "source": [
    "#I create a new column that contains the routes, so I won't need to use City1 and City2.\n",
    "df['route'] = df['City1'] + \" \" + df['City2']\n",
    "result = pd.DataFrame(columns=['City1', 'City2', 'YearlyPassengerTrips'])\n",
    "\n",
    "#I create a list of the routes in order to manage the index easier later.\n",
    "\n",
    "routes = list(df['route'].value_counts().keys())\n",
    "#I use a for loop in order to\n",
    "#create one row dataframes of every route and I append it to the result dataframe.\n",
    "\n",
    "for i in routes:\n",
    "    \n",
    "#Passenger Sum\n",
    "\n",
    "    passengers = df.loc[df['route'] == i]['PassengerTrips'].sum()\n",
    "    \n",
    "    #City1 name\n",
    "    \n",
    "    City1 = df.loc[df['route'] == i, 'City1'].iloc[1]\n",
    "    \n",
    "    #City2 name\n",
    "    \n",
    "    City2 = df.loc[df['route'] == i, 'City2'].iloc[1]\n",
    "    \n",
    "    #single row dataframe\n",
    "    add = pd.DataFrame({'City1': City1, 'City2':City2,\n",
    "                        'YearlyPassengerTrips':passengers}, \n",
    "                       index=np.arange(routes.index(i),routes.index(i)+1))\n",
    "    \n",
    "    result = result.append(add)\n",
    "    #Fixing index\n",
    "result.index =np.arange(0, result.shape[0])"
   ]
  },
  {
   "cell_type": "code",
   "execution_count": null,
   "id": "0ac1c104-be98-42d3-b131-01371ef30608",
   "metadata": {},
   "outputs": [],
   "source": [
    "print(\"Top 10 busiest routes for the year\")\n",
    "result.sort_values('YearlyPassengerTrips', ascending=False).head(10)      "
   ]
  },
  {
   "cell_type": "markdown",
   "id": "ff5dad96-17cf-41f0-9ccb-48d0b4c3fe35",
   "metadata": {},
   "source": [
    "For every route, what was their busiest month number, measured by actual passenger trips,\n",
    "and how many actual passenger trips did it have that month? (If there is no unique busiest\n",
    "month, any month will do.)"
   ]
  },
  {
   "cell_type": "code",
   "execution_count": null,
   "id": "0551151b-ddea-4b28-b9cf-bccccbf86a61",
   "metadata": {},
   "outputs": [],
   "source": [
    "#Exact same method as before, but I use max() instead of sum() and different columns.\n",
    "\n",
    "result = pd.DataFrame(columns=['City1', 'City2', 'BusiestMonth', 'NumTrips'])\n",
    "\n",
    "#I create a list of the routes in order to manage the index easier later.\n",
    "\n",
    "routes = list(df['route'].value_counts().keys())\n",
    "#I use a for loop in order to\n",
    "#create one row dataframes of every route and I append it to the result dataframe.\n",
    "\n",
    "for i in routes:\n",
    "    \n",
    "    route = df.loc[df['route'] == i]\n",
    "    route = route.loc[route['PassengerTrips'] == route['PassengerTrips'].max()]\n",
    "    \n",
    "    passengers = route['PassengerTrips'].iloc[0]\n",
    "    #City1 name\n",
    "    \n",
    "    City1 = route['City1'].iloc[0]\n",
    "    \n",
    "    #City2 name\n",
    "    City2 = route['City2'].iloc[0]\n",
    "    #Month\n",
    "    Month = route['MonthNum'].iloc[0]\n",
    "    \n",
    "    #single row dataframe\n",
    "    add = pd.DataFrame({'City1': City1, 'City2':City2, 'BusiestMonth': Month,\n",
    "                        'NumTrips':passengers}, \n",
    "                       index=np.arange(routes.index(i),routes.index(i)+1))\n",
    "    \n",
    "    result = result.append(add)\n",
    "    #Fixing index\n",
    "result.index =np.arange(0, result.shape[0])"
   ]
  },
  {
   "cell_type": "code",
   "execution_count": null,
   "id": "beae2309-73d4-45de-8206-503b59d00d7b",
   "metadata": {},
   "outputs": [],
   "source": [
    "print(\"Buisiest Month for every route\")\n",
    "result"
   ]
  },
  {
   "cell_type": "markdown",
   "id": "d0013340-51f2-4133-b73b-618d741f829d",
   "metadata": {},
   "source": [
    "During which month number were there the most actual passenger trips in total across all\n",
    "routes?"
   ]
  },
  {
   "cell_type": "code",
   "execution_count": null,
   "id": "c28b45a9-e435-4343-b96d-740a5a81c9ae",
   "metadata": {},
   "outputs": [],
   "source": [
    "result = pd.DataFrame(columns=['Month', 'TotalPassengerTrips'])\n",
    "\n",
    "#I create a list of the routes in order to manage the index easier later.\n",
    "\n",
    "months = list(df['MonthNum'].value_counts().keys())\n",
    "#I use a for loop in order to\n",
    "#create one row dataframes of every route and I append it to the result dataframe.\n",
    "\n",
    "for i in months:\n",
    "    \n",
    "#Passenger Sum\n",
    "\n",
    "    passengers = df.loc[df['MonthNum'] == i]['PassengerTrips'].sum()\n",
    "    \n",
    "    \n",
    "    #single row dataframe\n",
    "    add = pd.DataFrame({'Month': i,\n",
    "                        'TotalPassengerTrips':passengers}, \n",
    "                       index=np.arange(months.index(i),months.index(i)+1))\n",
    "    \n",
    "    result = result.append(add)\n",
    "    #Fixing index\n",
    "result.index =np.arange(0, result.shape[0])\n",
    "max_month = result[result['TotalPassengerTrips'] == result['TotalPassengerTrips'].max()]"
   ]
  },
  {
   "cell_type": "code",
   "execution_count": null,
   "id": "049da17b-9dcb-4e36-9022-12749dd17058",
   "metadata": {},
   "outputs": [],
   "source": [
    "print('The overall buisiest month: \\n ', max_month['Month'].iloc[0], \": \" ,\n",
    "      max_month['TotalPassengerTrips'].iloc[0])"
   ]
  },
  {
   "cell_type": "markdown",
   "id": "2603d040-41a7-483c-a555-d0e00b46d46c",
   "metadata": {},
   "source": [
    "What were the 10 routes that had the highest proportion of vacant seats during the year, and\n",
    "what were their proportions of vacancy?"
   ]
  },
  {
   "cell_type": "code",
   "execution_count": null,
   "id": "e3d41f43-3c23-4ea0-a280-4173afb202f3",
   "metadata": {},
   "outputs": [],
   "source": [
    "\n",
    "result = pd.DataFrame(columns=['City1', 'City2', 'Vacancy'])\n",
    "\n",
    "#I create a list of the routes in order to manage the index easier later.\n",
    "\n",
    "routes = list(df['route'].value_counts().keys())\n",
    "#I use a for loop in order to\n",
    "#create one row dataframes of every route and I append it to the result dataframe.\n",
    "\n",
    "for i in routes:\n",
    "    \n",
    "    #We divide the sum of the Passengers with the sum of the seats.\n",
    "    #By this, we find the percentage of the passengers.\n",
    "    #And we subtract 1 by the percentage of the passengers.\n",
    "    #That way, we find the proportion of the vacant seats.\n",
    "    percentage = 1 - df[df['route']==i]['PassengerTrips'].sum()/df[df['route']==i]['Seats'].sum()\n",
    "    \n",
    "    #City1 name\n",
    "    \n",
    "    City1 = df.loc[df['route'] == i, 'City1'].iloc[1]\n",
    "    \n",
    "    #City2 name\n",
    "    \n",
    "    City2 = df.loc[df['route'] == i, 'City2'].iloc[1]\n",
    "    \n",
    "    #single row dataframe\n",
    "    add = pd.DataFrame({'City1': City1, 'City2':City2,\n",
    "                        'Vacancy':percentage}, \n",
    "                       index=np.arange(routes.index(i),routes.index(i)+1))\n",
    "    \n",
    "    result = result.append(add)\n",
    "    #Fixing index\n",
    "result.index =np.arange(0, result.shape[0])"
   ]
  },
  {
   "cell_type": "code",
   "execution_count": null,
   "id": "5767a340-dba4-4007-9cc9-11a4769d6319",
   "metadata": {},
   "outputs": [],
   "source": [
    "print(\"The 10 routes with the highest proportion of vacant seats:\")\n",
    "result.sort_values('Vacancy', ascending=False).head(10)"
   ]
  },
  {
   "cell_type": "code",
   "execution_count": null,
   "id": "f4ed1924-b97a-4c2f-878f-4f19d22d2334",
   "metadata": {},
   "outputs": [],
   "source": []
  }
 ],
 "metadata": {
  "kernelspec": {
   "display_name": "Python 3 (ipykernel)",
   "language": "python",
   "name": "python3"
  },
  "language_info": {
   "codemirror_mode": {
    "name": "ipython",
    "version": 3
   },
   "file_extension": ".py",
   "mimetype": "text/x-python",
   "name": "python",
   "nbconvert_exporter": "python",
   "pygments_lexer": "ipython3",
   "version": "3.10.1"
  }
 },
 "nbformat": 4,
 "nbformat_minor": 5
}
