{
 "cells": [
  {
   "cell_type": "code",
   "execution_count": 1,
   "id": "be89a46a-e964-4274-a51d-c3c4b5e5fd84",
   "metadata": {},
   "outputs": [],
   "source": [
    "from pyspark.sql import SparkSession\n",
    "spark = SparkSession.builder.appName('Practice').getOrCreate()"
   ]
  },
  {
   "cell_type": "markdown",
   "id": "e0e1e9ab-50ee-4a63-9b48-f45529d02725",
   "metadata": {},
   "source": [
    "This is the [Demographics Data Analyzer project]('https://www.freecodecamp.org/learn/data-analysis-with-python/data-analysis-with-python-projects/demographic-data-analyzer') by freeCodeCamp, but done using pyspark"
   ]
  },
  {
   "cell_type": "code",
   "execution_count": 2,
   "id": "92dc735a-ff09-4c22-af62-0935d717e90c",
   "metadata": {},
   "outputs": [
    {
     "data": {
      "text/plain": [
       "DataFrame[age: int, workclass: string, fnlwgt: int, education: string, education-num: int, marital-status: string, occupation: string, relationship: string, race: string, sex: string, capital-gain: int, capital-loss: int, hours-per-week: int, native-country: string, salary: string]"
      ]
     },
     "execution_count": 2,
     "metadata": {},
     "output_type": "execute_result"
    }
   ],
   "source": [
    "df = spark.read.csv('adult.data.csv', header=True, inferSchema=True)\n",
    "df"
   ]
  },
  {
   "cell_type": "code",
   "execution_count": 3,
   "id": "3b872d44-0a20-4e65-88f8-cc3e88b83731",
   "metadata": {},
   "outputs": [
    {
     "name": "stdout",
     "output_type": "stream",
     "text": [
      "+---+----------------+------+---------+-------------+------------------+-----------------+-------------+-----+------+------------+------------+--------------+--------------+------+\n",
      "|age|       workclass|fnlwgt|education|education-num|    marital-status|       occupation| relationship| race|   sex|capital-gain|capital-loss|hours-per-week|native-country|salary|\n",
      "+---+----------------+------+---------+-------------+------------------+-----------------+-------------+-----+------+------------+------------+--------------+--------------+------+\n",
      "| 39|       State-gov| 77516|Bachelors|           13|     Never-married|     Adm-clerical|Not-in-family|White|  Male|        2174|           0|            40| United-States| <=50K|\n",
      "| 50|Self-emp-not-inc| 83311|Bachelors|           13|Married-civ-spouse|  Exec-managerial|      Husband|White|  Male|           0|           0|            13| United-States| <=50K|\n",
      "| 38|         Private|215646|  HS-grad|            9|          Divorced|Handlers-cleaners|Not-in-family|White|  Male|           0|           0|            40| United-States| <=50K|\n",
      "| 53|         Private|234721|     11th|            7|Married-civ-spouse|Handlers-cleaners|      Husband|Black|  Male|           0|           0|            40| United-States| <=50K|\n",
      "| 28|         Private|338409|Bachelors|           13|Married-civ-spouse|   Prof-specialty|         Wife|Black|Female|           0|           0|            40|          Cuba| <=50K|\n",
      "+---+----------------+------+---------+-------------+------------------+-----------------+-------------+-----+------+------------+------------+--------------+--------------+------+\n",
      "only showing top 5 rows\n",
      "\n"
     ]
    }
   ],
   "source": [
    "df.show(5)"
   ]
  },
  {
   "cell_type": "code",
   "execution_count": 4,
   "id": "5f1e72eb-e0da-4989-a279-73deafb77172",
   "metadata": {},
   "outputs": [
    {
     "data": {
      "text/plain": [
       "['age',\n",
       " 'workclass',\n",
       " 'fnlwgt',\n",
       " 'education',\n",
       " 'education-num',\n",
       " 'marital-status',\n",
       " 'occupation',\n",
       " 'relationship',\n",
       " 'race',\n",
       " 'sex',\n",
       " 'capital-gain',\n",
       " 'capital-loss',\n",
       " 'hours-per-week',\n",
       " 'native-country',\n",
       " 'salary']"
      ]
     },
     "execution_count": 4,
     "metadata": {},
     "output_type": "execute_result"
    }
   ],
   "source": [
    "df.columns"
   ]
  },
  {
   "cell_type": "markdown",
   "id": "32ecf6c7-a0a6-4fc1-9a27-1da83507d4cd",
   "metadata": {},
   "source": [
    "## How many people of each race are represented in this dataset?"
   ]
  },
  {
   "cell_type": "code",
   "execution_count": 5,
   "id": "607b22f1-a62b-47d4-81d5-b617f50e3e6c",
   "metadata": {},
   "outputs": [
    {
     "name": "stdout",
     "output_type": "stream",
     "text": [
      "+------------------+-----+\n",
      "|              race|count|\n",
      "+------------------+-----+\n",
      "|             Other|  271|\n",
      "|Amer-Indian-Eskimo|  311|\n",
      "|             White|27816|\n",
      "|Asian-Pac-Islander| 1039|\n",
      "|             Black| 3124|\n",
      "+------------------+-----+\n",
      "\n"
     ]
    }
   ],
   "source": [
    "df.groupby('race').count().show()"
   ]
  },
  {
   "cell_type": "markdown",
   "id": "462514bf-dafd-4d1c-a98f-486e24592fcb",
   "metadata": {},
   "source": [
    "## What is the average age of men?"
   ]
  },
  {
   "cell_type": "code",
   "execution_count": 6,
   "id": "99d0a8bb-fb5f-4214-a011-c1f5b5b104b2",
   "metadata": {},
   "outputs": [
    {
     "name": "stdout",
     "output_type": "stream",
     "text": [
      "+-----------------+\n",
      "|         avg(age)|\n",
      "+-----------------+\n",
      "|39.43354749885268|\n",
      "+-----------------+\n",
      "\n"
     ]
    }
   ],
   "source": [
    "df.filter(df.sex=='Male').groupBy().avg('age').show()"
   ]
  },
  {
   "cell_type": "markdown",
   "id": "520daa1a-d3fa-4bd3-b145-a5344a0410ef",
   "metadata": {},
   "source": [
    "## What is the percentage of people who have a Bachelor's degree?"
   ]
  },
  {
   "cell_type": "code",
   "execution_count": 7,
   "id": "4e60764b-b03b-4d14-a644-1239837b21e1",
   "metadata": {},
   "outputs": [
    {
     "data": {
      "text/plain": [
       "16.44605509658794"
      ]
     },
     "execution_count": 7,
     "metadata": {},
     "output_type": "execute_result"
    }
   ],
   "source": [
    "(df.filter(df.education == 'Bachelors').count()/df.count()) * 100"
   ]
  },
  {
   "cell_type": "markdown",
   "id": "fc57d253-22d1-4bc7-9e3f-9ce2d2a3925d",
   "metadata": {},
   "source": [
    "## What percentage of people with advanced education (Bachelors, Masters, or Doctorate) make more than 50K?"
   ]
  },
  {
   "cell_type": "code",
   "execution_count": 8,
   "id": "6302785b-a2f0-413f-a130-04df74f43614",
   "metadata": {},
   "outputs": [
    {
     "data": {
      "text/plain": [
       "10.706059396210192"
      ]
     },
     "execution_count": 8,
     "metadata": {},
     "output_type": "execute_result"
    }
   ],
   "source": [
    "df.filter(((df.education == 'Bachelors') |\n",
    "                     (df.education == 'Masters') |\n",
    "                     (df.education == 'Doctorate')) & (df.salary == \">50K\")).count()/df.count() * 100"
   ]
  },
  {
   "cell_type": "markdown",
   "id": "0ba9395c-465c-4a7a-8881-47fbcd904d35",
   "metadata": {},
   "source": [
    "## What percentage of people without advanced education make more than 50K?"
   ]
  },
  {
   "cell_type": "code",
   "execution_count": 9,
   "id": "487c6cbc-e832-4f70-b949-54b50e659215",
   "metadata": {},
   "outputs": [
    {
     "data": {
      "text/plain": [
       "13.374896348392248"
      ]
     },
     "execution_count": 9,
     "metadata": {},
     "output_type": "execute_result"
    }
   ],
   "source": [
    "df.filter(~((df.education == 'Bachelors') |\n",
    "                     (df.education == 'Masters') |\n",
    "                     (df.education == 'Doctorate')) & (df.salary == \">50K\")).count()/df.count() * 100"
   ]
  },
  {
   "cell_type": "markdown",
   "id": "6a84887b-b756-40f8-95d7-ef3ae0fcd7f6",
   "metadata": {},
   "source": [
    "## What is the minimum number of hours a person works per week?"
   ]
  },
  {
   "cell_type": "code",
   "execution_count": 10,
   "id": "7de0aaf9-b5e1-4de8-bac5-887face5ffa3",
   "metadata": {},
   "outputs": [
    {
     "data": {
      "text/plain": [
       "1"
      ]
     },
     "execution_count": 10,
     "metadata": {},
     "output_type": "execute_result"
    }
   ],
   "source": [
    "minimum = df.groupBy().min('hours-per-week').collect()[0][0]\n",
    "minimum"
   ]
  },
  {
   "cell_type": "markdown",
   "id": "d85669dc-eccc-4f6b-b82d-1b1312632e16",
   "metadata": {},
   "source": [
    "## What percentage of the people who work the minimum number of hours per week have a salary of more than 50K?"
   ]
  },
  {
   "cell_type": "code",
   "execution_count": 11,
   "id": "8fd6d75b-f62f-48a1-9ac0-d228096eb170",
   "metadata": {},
   "outputs": [
    {
     "data": {
      "text/plain": [
       "10.0"
      ]
     },
     "execution_count": 11,
     "metadata": {},
     "output_type": "execute_result"
    }
   ],
   "source": [
    "df.filter((df['hours-per-week'] == minimum) & (df['salary'] == \">50K\")).count()/df.filter(df['hours-per-week'] == minimum).count() * 100"
   ]
  },
  {
   "cell_type": "markdown",
   "id": "5ef35967-3e0e-428c-b840-cfe1e9c4399c",
   "metadata": {},
   "source": [
    "## What country has the highest percentage of people that earn >50K and what is that percentage?"
   ]
  },
  {
   "cell_type": "code",
   "execution_count": 12,
   "id": "9e804c5f-abf2-4ad7-b171-faa3e27dd108",
   "metadata": {},
   "outputs": [],
   "source": [
    "rich = df.filter(df['salary'] == \">50K\").groupby('native-country').count().withColumnRenamed('count', 'rich')"
   ]
  },
  {
   "cell_type": "code",
   "execution_count": 13,
   "id": "c919a854-4df2-4add-90b4-79cc6ec7533b",
   "metadata": {},
   "outputs": [],
   "source": [
    "countries = df.groupby('native-country').count()"
   ]
  },
  {
   "cell_type": "code",
   "execution_count": 14,
   "id": "8d7e7ae2-09ae-4c45-89b8-833987a98b29",
   "metadata": {},
   "outputs": [],
   "source": [
    "from pyspark.sql.functions import *\n",
    "\n",
    "df2 = rich.join(countries, 'native-country').withColumn(\"percentage\", \n",
    "                                                        (col(\"rich\") / col(\"count\")))"
   ]
  },
  {
   "cell_type": "code",
   "execution_count": 15,
   "id": "984c1d07-d744-4b6a-995c-dff33c4afafd",
   "metadata": {},
   "outputs": [
    {
     "name": "stdout",
     "output_type": "stream",
     "text": [
      "+--------------+------------------+\n",
      "|native-country|        percentage|\n",
      "+--------------+------------------+\n",
      "|          Iran|0.4186046511627907|\n",
      "+--------------+------------------+\n",
      "only showing top 1 row\n",
      "\n"
     ]
    }
   ],
   "source": [
    "df2.sort(col('percentage').desc()).select(['native-country', 'percentage']).show(1)"
   ]
  },
  {
   "cell_type": "markdown",
   "id": "8d4b21bf-35ca-4eed-89e6-273e5d8ac1d1",
   "metadata": {},
   "source": [
    "## Identify the most popular occupation for those who earn >50K in India."
   ]
  },
  {
   "cell_type": "code",
   "execution_count": 16,
   "id": "cac08f6e-d21a-4a58-a4a4-7d1db099c64e",
   "metadata": {},
   "outputs": [
    {
     "name": "stdout",
     "output_type": "stream",
     "text": [
      "+--------------+-----+\n",
      "|    occupation|count|\n",
      "+--------------+-----+\n",
      "|Prof-specialty|   25|\n",
      "+--------------+-----+\n",
      "only showing top 1 row\n",
      "\n"
     ]
    }
   ],
   "source": [
    "df.filter((df['salary'] == \">50K\") & (df['native-country'] == 'India')).groupby('occupation').count().sort(col('count').desc()).show(1)"
   ]
  }
 ],
 "metadata": {
  "kernelspec": {
   "display_name": "Python 3 (ipykernel)",
   "language": "python",
   "name": "python3"
  },
  "language_info": {
   "codemirror_mode": {
    "name": "ipython",
    "version": 3
   },
   "file_extension": ".py",
   "mimetype": "text/x-python",
   "name": "python",
   "nbconvert_exporter": "python",
   "pygments_lexer": "ipython3",
   "version": "3.10.4"
  }
 },
 "nbformat": 4,
 "nbformat_minor": 5
}
