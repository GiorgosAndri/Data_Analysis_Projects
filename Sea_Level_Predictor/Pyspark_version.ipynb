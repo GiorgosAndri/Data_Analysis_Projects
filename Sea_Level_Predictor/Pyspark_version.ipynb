{
 "cells": [
  {
   "cell_type": "code",
   "execution_count": 1,
   "id": "ea00021b-6c86-4263-bc31-525f359cc881",
   "metadata": {},
   "outputs": [],
   "source": [
    "from pyspark.sql import SparkSession\n",
    "from pyspark.ml.feature import VectorAssembler\n",
    "import matplotlib.pyplot as plt\n",
    "import numpy as np\n",
    "from pyspark.ml.regression import LinearRegression\n",
    "from pyspark.sql.functions import *\n",
    "import pandas as pd\n",
    "import re"
   ]
  },
  {
   "cell_type": "markdown",
   "id": "4ec208de-ba8d-48cd-89f0-eff1e7c14d8b",
   "metadata": {},
   "source": [
    "We're going to do the freeCodeCamp's [sea level predictor project](\"https://www.freecodecamp.org/learn/data-analysis-with-python/data-analysis-with-python-projects/sea-level-predictor\") using pyspark."
   ]
  },
  {
   "cell_type": "code",
   "execution_count": 2,
   "id": "9ba7e37e-245d-4365-bfc3-9f840a90cd53",
   "metadata": {},
   "outputs": [],
   "source": [
    "spark = SparkSession.builder.appName('Practice').getOrCreate()"
   ]
  },
  {
   "cell_type": "code",
   "execution_count": 3,
   "id": "2d7e399a-e5c4-493e-8842-a95b7f4f7cbe",
   "metadata": {},
   "outputs": [
    {
     "name": "stdout",
     "output_type": "stream",
     "text": [
      "+----+------------------------+-----------------+-----------------+-----------------------+\n",
      "|Year|CSIRO Adjusted Sea Level|Lower Error Bound|Upper Error Bound|NOAA Adjusted Sea Level|\n",
      "+----+------------------------+-----------------+-----------------+-----------------------+\n",
      "|1880|                     0.0|     -0.952755905|      0.952755905|                   null|\n",
      "|1881|             0.220472441|     -0.732283464|      1.173228345|                   null|\n",
      "|1882|            -0.440944881|     -1.346456692|      0.464566929|                   null|\n",
      "|1883|            -0.232283464|     -1.129921259|       0.66535433|                   null|\n",
      "|1884|             0.590551181|     -0.283464567|      1.464566928|                   null|\n",
      "|1885|             0.531496062|     -0.330708661|      1.393700786|                   null|\n",
      "|1886|             0.437007874|     -0.381889763|      1.255905511|                   null|\n",
      "|1887|             0.216535433|     -0.602362204|       1.03543307|                   null|\n",
      "|1888|             0.299212598|     -0.519685039|      1.118110235|                   null|\n",
      "|1889|             0.362204724|     -0.456692913|      1.181102361|                   null|\n",
      "|1890|             0.440944881|     -0.374015748|      1.255905511|                   null|\n",
      "|1891|             0.374015748|     -0.440944881|      1.188976377|                   null|\n",
      "|1892|             0.499999999|      -0.31496063|      1.314960629|                   null|\n",
      "|1893|             0.685039369|     -0.114173228|      1.484251967|                   null|\n",
      "|1894|             0.303149606|     -0.547244094|      1.153543306|                   null|\n",
      "|1895|             0.767716535|     -0.082677165|      1.618110235|                   null|\n",
      "|1896|             0.468503937|     -0.366141732|      1.303149605|                   null|\n",
      "|1897|             0.673228346|     -0.145669291|      1.492125983|                   null|\n",
      "|1898|             1.043307086|      0.267716535|      1.818897636|                   null|\n",
      "|1899|             1.338582676|      0.574803149|      2.102362203|                   null|\n",
      "+----+------------------------+-----------------+-----------------+-----------------------+\n",
      "only showing top 20 rows\n",
      "\n"
     ]
    }
   ],
   "source": [
    "df= spark.read.csv('C:/Users/Andri/Python_Data/Prediction/epa-sea-level.csv', header=True, inferSchema=True)\n",
    "df.show()"
   ]
  },
  {
   "cell_type": "markdown",
   "id": "52c00474-2c57-4f84-8885-123c08005302",
   "metadata": {},
   "source": [
    "First, we rename the sea level column in order to make it code friendly. Then, we take the columns that we want and we make the first plot.\n",
    "\n",
    "In order to make it scatter, we'll make a pandas dataframe with our selected columns and then we'll create our plot "
   ]
  },
  {
   "cell_type": "code",
   "execution_count": 4,
   "id": "4354345e-fbfb-48bf-bf58-c720bf60f5b9",
   "metadata": {},
   "outputs": [],
   "source": [
    "df = df.withColumnRenamed(\"CSIRO Adjusted Sea Level\",\"CSIRO_Adjusted_Sea_Level\")\n",
    "df = df.select(['Year', 'CSIRO_Adjusted_Sea_Level'])"
   ]
  },
  {
   "cell_type": "code",
   "execution_count": 5,
   "id": "243dce34-d05b-4c67-9862-70df91bbd90d",
   "metadata": {},
   "outputs": [
    {
     "data": {
      "text/plain": [
       "Text(0.5, 1.0, 'Rise in the sea level')"
      ]
     },
     "execution_count": 5,
     "metadata": {},
     "output_type": "execute_result"
    },
    {
     "data": {
      "image/png": "[encoded data removed]",
      "text/plain": [
       "<Figure size 1080x504 with 1 Axes>"
      ]
     },
     "metadata": {
      "needs_background": "light"
     },
     "output_type": "display_data"
    }
   ],
   "source": [
    "y = [i.CSIRO_Adjusted_Sea_Level for i in df.select('CSIRO_Adjusted_Sea_Level').collect()]\n",
    "x = [i.Year for i in df.select('Year').collect()]\n",
    "pandas = pd.DataFrame({'Year': x, 'CSIRO Adjusted Sea Level': y})\n",
    "fig = pandas.plot(kind='scatter', x='Year', y='CSIRO Adjusted Sea Level', figsize=(15,7))\n",
    "plt.title('Rise in the sea level')"
   ]
  },
  {
   "cell_type": "markdown",
   "id": "7a5639fd-3211-4958-9c28-18c718b1ac6a",
   "metadata": {},
   "source": [
    "Now we're going to make the first regression line. Since we're going to transform a lot of data in our way, we'll make a function in order to save some time and for future use."
   ]
  },
  {
   "cell_type": "code",
   "execution_count": 6,
   "id": "14bf0dd5-31cc-49b1-8ac7-d0b07317c78a",
   "metadata": {},
   "outputs": [],
   "source": [
    "def transform(data, independent_features, target_feature):\n",
    "    #Vector\n",
    "        featureassembler=VectorAssembler(inputCols=[independent_features], outputCol = \"Independent_Features\")\n",
    "        #Transform\n",
    "        output = featureassembler.transform(data)\n",
    "        #Filtering\n",
    "        finalized_data = output.select('Independent_Features', target_feature)\n",
    "        return finalized_data "
   ]
  },
  {
   "cell_type": "code",
   "execution_count": 7,
   "id": "52a112f3-f5a6-4426-bcb7-e809657102d8",
   "metadata": {},
   "outputs": [
    {
     "name": "stdout",
     "output_type": "stream",
     "text": [
      "+--------------------+------------------------+\n",
      "|Independent_Features|CSIRO_Adjusted_Sea_Level|\n",
      "+--------------------+------------------------+\n",
      "|            [1880.0]|                     0.0|\n",
      "|            [1881.0]|             0.220472441|\n",
      "|            [1882.0]|            -0.440944881|\n",
      "|            [1883.0]|            -0.232283464|\n",
      "|            [1884.0]|             0.590551181|\n",
      "|            [1885.0]|             0.531496062|\n",
      "|            [1886.0]|             0.437007874|\n",
      "|            [1887.0]|             0.216535433|\n",
      "|            [1888.0]|             0.299212598|\n",
      "|            [1889.0]|             0.362204724|\n",
      "|            [1890.0]|             0.440944881|\n",
      "|            [1891.0]|             0.374015748|\n",
      "|            [1892.0]|             0.499999999|\n",
      "|            [1893.0]|             0.685039369|\n",
      "|            [1894.0]|             0.303149606|\n",
      "|            [1895.0]|             0.767716535|\n",
      "|            [1896.0]|             0.468503937|\n",
      "|            [1897.0]|             0.673228346|\n",
      "|            [1898.0]|             1.043307086|\n",
      "|            [1899.0]|             1.338582676|\n",
      "+--------------------+------------------------+\n",
      "only showing top 20 rows\n",
      "\n"
     ]
    }
   ],
   "source": [
    "train = transform(df, 'Year', 'CSIRO_Adjusted_Sea_Level')\n",
    "train.show()"
   ]
  },
  {
   "cell_type": "markdown",
   "id": "a3046166-eb39-4737-954d-b3ed57673df6",
   "metadata": {},
   "source": [
    "Now, we're going to make our regressor and we'll fit our data in."
   ]
  },
  {
   "cell_type": "code",
   "execution_count": 8,
   "id": "2ba49ae1-5524-48ca-b1d0-a76b0a61a96e",
   "metadata": {},
   "outputs": [],
   "source": [
    "regressor = LinearRegression(featuresCol='Independent_Features', labelCol='CSIRO_Adjusted_Sea_Level')\n",
    "regressor = regressor.fit(train)"
   ]
  },
  {
   "cell_type": "markdown",
   "id": "3d9e447b-3d78-447b-8cfd-701cdcc0c837",
   "metadata": {},
   "source": [
    "Now, we need to extend our line to the year 2050. In order to do that, we'll make another dataframe starting from 2014(since our data end in 2013), we'll transform it, we'll unionize it with the train dataframe, we'll do the evaluation, we'll drop the CSIRO_Adjusted_Sea_Level column, and then we'll have the exact columns that we need for our plot."
   ]
  },
  {
   "cell_type": "code",
   "execution_count": 9,
   "id": "83910f3d-37f0-4428-b932-f6c66618480f",
   "metadata": {},
   "outputs": [
    {
     "data": {
      "text/plain": [
       "DataFrame[Independent_Features: vector, CSIRO_Adjusted_Sea_Level: double]"
      ]
     },
     "execution_count": 9,
     "metadata": {},
     "output_type": "execute_result"
    }
   ],
   "source": [
    "df2 = spark.range(2014,2051).withColumnRenamed(\"id\",\"Year\").withColumn(\"CSIRO_Adjusted_Sea_Level\",lit(0.0))\n",
    "df2 = transform(df2, 'Year', 'CSIRO_Adjusted_Sea_Level')\n",
    "df_pred = train.union(df2)\n",
    "df_pred"
   ]
  },
  {
   "cell_type": "code",
   "execution_count": 10,
   "id": "188d5247-ffd0-4f09-bc8a-73618793c968",
   "metadata": {},
   "outputs": [
    {
     "name": "stdout",
     "output_type": "stream",
     "text": [
      "+--------------------+------------------------+--------------------+\n",
      "|Independent_Features|CSIRO_Adjusted_Sea_Level|          prediction|\n",
      "+--------------------+------------------------+--------------------+\n",
      "|            [1880.0]|                     0.0| -0.5421240249244192|\n",
      "|            [1881.0]|             0.220472441|-0.47907944091231514|\n",
      "|            [1882.0]|            -0.440944881|  -0.416034856900211|\n",
      "|            [1883.0]|            -0.232283464| -0.3529902728880927|\n",
      "|            [1884.0]|             0.590551181| -0.2899456888759886|\n",
      "|            [1885.0]|             0.531496062|-0.22690110486388448|\n",
      "|            [1886.0]|             0.437007874|-0.16385652085178037|\n",
      "|            [1887.0]|             0.216535433|-0.10081193683967626|\n",
      "|            [1888.0]|             0.299212598|-0.03776735282757...|\n",
      "|            [1889.0]|             0.362204724|0.025277231184531956|\n",
      "|            [1890.0]|             0.440944881| 0.08832181519663607|\n",
      "|            [1891.0]|             0.374015748| 0.15136639920874018|\n",
      "|            [1892.0]|             0.499999999|  0.2144109832208443|\n",
      "|            [1893.0]|             0.685039369|  0.2774555672329484|\n",
      "|            [1894.0]|             0.303149606|  0.3405001512450667|\n",
      "|            [1895.0]|             0.767716535| 0.40354473525717083|\n",
      "|            [1896.0]|             0.468503937| 0.46658931926927494|\n",
      "|            [1897.0]|             0.673228346|   0.529633903281379|\n",
      "|            [1898.0]|             1.043307086|  0.5926784872934832|\n",
      "|            [1899.0]|             1.338582676|  0.6557230713055873|\n",
      "+--------------------+------------------------+--------------------+\n",
      "only showing top 20 rows\n",
      "\n"
     ]
    }
   ],
   "source": [
    "pred_result = regressor.evaluate(df_pred)\n",
    "pred_result.predictions.show()"
   ]
  },
  {
   "cell_type": "code",
   "execution_count": 11,
   "id": "17add9e8-fdb5-45b1-b9d1-fecf40a4f083",
   "metadata": {},
   "outputs": [],
   "source": [
    "pred_result = pred_result.predictions.drop('CSIRO_Adjusted_Sea_Level')"
   ]
  },
  {
   "cell_type": "code",
   "execution_count": 12,
   "id": "59a2f68b-7b48-4d73-8287-e18e8445ce82",
   "metadata": {},
   "outputs": [
    {
     "name": "stdout",
     "output_type": "stream",
     "text": [
      "+--------------------+--------------------+\n",
      "|Independent_Features|          prediction|\n",
      "+--------------------+--------------------+\n",
      "|            [1880.0]| -0.5421240249244192|\n",
      "|            [1881.0]|-0.47907944091231514|\n",
      "|            [1882.0]|  -0.416034856900211|\n",
      "|            [1883.0]| -0.3529902728880927|\n",
      "|            [1884.0]| -0.2899456888759886|\n",
      "|            [1885.0]|-0.22690110486388448|\n",
      "|            [1886.0]|-0.16385652085178037|\n",
      "|            [1887.0]|-0.10081193683967626|\n",
      "|            [1888.0]|-0.03776735282757...|\n",
      "|            [1889.0]|0.025277231184531956|\n",
      "|            [1890.0]| 0.08832181519663607|\n",
      "|            [1891.0]| 0.15136639920874018|\n",
      "|            [1892.0]|  0.2144109832208443|\n",
      "|            [1893.0]|  0.2774555672329484|\n",
      "|            [1894.0]|  0.3405001512450667|\n",
      "|            [1895.0]| 0.40354473525717083|\n",
      "|            [1896.0]| 0.46658931926927494|\n",
      "|            [1897.0]|   0.529633903281379|\n",
      "|            [1898.0]|  0.5926784872934832|\n",
      "|            [1899.0]|  0.6557230713055873|\n",
      "+--------------------+--------------------+\n",
      "only showing top 20 rows\n",
      "\n"
     ]
    }
   ],
   "source": [
    "pred_result.show()"
   ]
  },
  {
   "cell_type": "markdown",
   "id": "f17221cc-c86f-4013-bd0f-8313637f2711",
   "metadata": {},
   "source": [
    "Now, we can make our plot. To begin with, we'll make our dataframes for plotting."
   ]
  },
  {
   "cell_type": "code",
   "execution_count": 13,
   "id": "53fb6be1-dffc-4516-93c9-b7dfaec7facc",
   "metadata": {},
   "outputs": [],
   "source": [
    "#Original dataframe\n",
    "y_axis = [i.CSIRO_Adjusted_Sea_Level for i in df.select('CSIRO_Adjusted_Sea_Level').collect()]\n",
    "x_axis = [i.Year for i in df.select('Year').collect()]\n",
    "scatter_df = pd.DataFrame({'Year': x, 'CSIRO Adjusted Sea Level': y})\n",
    "\n",
    "#linear prediction dataframe\n",
    "y = [i.prediction for i in pred_result.select('prediction').collect()]\n",
    "\n",
    "line1_df = pd.DataFrame({'Year': pd.Series(np.arange(1880, 2051)),\n",
    "                        'CSIRO Adjusted Sea Level': y})"
   ]
  },
  {
   "cell_type": "code",
   "execution_count": 14,
   "id": "a23844f1-4dca-4f54-bbcb-378ccb229dcc",
   "metadata": {},
   "outputs": [
    {
     "data": {
      "text/plain": [
       "[<matplotlib.lines.Line2D at 0x1d9276daf80>]"
      ]
     },
     "execution_count": 14,
     "metadata": {},
     "output_type": "execute_result"
    },
    {
     "data": {
      "image/png": "[encoded data removed]",
      "text/plain": [
       "<Figure size 1080x504 with 1 Axes>"
      ]
     },
     "metadata": {
      "needs_background": "light"
     },
     "output_type": "display_data"
    }
   ],
   "source": [
    "fig = scatter_df.plot(kind='scatter', x='Year', y='CSIRO Adjusted Sea Level', figsize=(15,7))\n",
    "plt.title('Rise in the sea level')\n",
    "x = pd.Series(np.arange(1880, 2051))\n",
    "y = line1_df['CSIRO Adjusted Sea Level']\n",
    "plt.plot(x, y, 'r')"
   ]
  },
  {
   "cell_type": "markdown",
   "id": "d9ed7ff9-9fb1-45cf-b7e9-756a02b581ba",
   "metadata": {},
   "source": [
    "Now, we need to make a third dataframe for making a line that predicts the sea level rise in 2050 if the rate of rise continues as it has since the year 2000."
   ]
  },
  {
   "cell_type": "code",
   "execution_count": 15,
   "id": "0193bf30-c1fc-4408-8a55-71d1157bdc55",
   "metadata": {},
   "outputs": [
    {
     "data": {
      "text/html": [
       "<div>\n",
       "<style scoped>\n",
       "    .dataframe tbody tr th:only-of-type {\n",
       "        vertical-align: middle;\n",
       "    }\n",
       "\n",
       "    .dataframe tbody tr th {\n",
       "        vertical-align: top;\n",
       "    }\n",
       "\n",
       "    .dataframe thead th {\n",
       "        text-align: right;\n",
       "    }\n",
       "</style>\n",
       "<table border=\"1\" class=\"dataframe\">\n",
       "  <thead>\n",
       "    <tr style=\"text-align: right;\">\n",
       "      <th></th>\n",
       "      <th>Year</th>\n",
       "      <th>CSIRO Adjusted Sea Level</th>\n",
       "    </tr>\n",
       "  </thead>\n",
       "  <tbody>\n",
       "    <tr>\n",
       "      <th>0</th>\n",
       "      <td>2000</td>\n",
       "      <td>7.061080</td>\n",
       "    </tr>\n",
       "    <tr>\n",
       "      <th>1</th>\n",
       "      <td>2001</td>\n",
       "      <td>7.227507</td>\n",
       "    </tr>\n",
       "    <tr>\n",
       "      <th>2</th>\n",
       "      <td>2002</td>\n",
       "      <td>7.393934</td>\n",
       "    </tr>\n",
       "    <tr>\n",
       "      <th>3</th>\n",
       "      <td>2003</td>\n",
       "      <td>7.560362</td>\n",
       "    </tr>\n",
       "    <tr>\n",
       "      <th>4</th>\n",
       "      <td>2004</td>\n",
       "      <td>7.726789</td>\n",
       "    </tr>\n",
       "  </tbody>\n",
       "</table>\n",
       "</div>"
      ],
      "text/plain": [
       "   Year  CSIRO Adjusted Sea Level\n",
       "0  2000                  7.061080\n",
       "1  2001                  7.227507\n",
       "2  2002                  7.393934\n",
       "3  2003                  7.560362\n",
       "4  2004                  7.726789"
      ]
     },
     "execution_count": 15,
     "metadata": {},
     "output_type": "execute_result"
    }
   ],
   "source": [
    "df_filtered = df.filter(df.Year >=2000)\n",
    "train = transform(df_filtered, 'Year', 'CSIRO_Adjusted_Sea_Level')\n",
    "\n",
    "regressor = LinearRegression(featuresCol='Independent_Features', labelCol='CSIRO_Adjusted_Sea_Level')\n",
    "regressor = regressor.fit(train)\n",
    "\n",
    "\n",
    "df_pred = train.union(df2)\n",
    "\n",
    "pred_result = regressor.evaluate(df_pred)\n",
    "pred_result = pred_result.predictions.drop('CSIRO_Adjusted_Sea_Level')\n",
    "\n",
    "sea_level = [i.prediction for i in pred_result.select('prediction').collect()]\n",
    "\n",
    "line2_df = pd.DataFrame({'Year': pd.Series(np.arange(2000, 2051)),\n",
    "                        'CSIRO Adjusted Sea Level': sea_level})\n",
    "\n",
    "line2_df.head()"
   ]
  },
  {
   "cell_type": "markdown",
   "id": "99eddb6a-d98b-436a-97e9-60e17e4a54f4",
   "metadata": {},
   "source": [
    "Now we can make our final plot."
   ]
  },
  {
   "cell_type": "code",
   "execution_count": 16,
   "id": "bb3264bc-862a-46b4-80d5-779cb8fa6beb",
   "metadata": {},
   "outputs": [
    {
     "data": {
      "text/plain": [
       "Text(0.5, 1.0, 'Rise in the sea level')"
      ]
     },
     "execution_count": 16,
     "metadata": {},
     "output_type": "execute_result"
    },
    {
     "data": {
      "image/png": "[encoded data removed]",
      "text/plain": [
       "<Figure size 1080x504 with 1 Axes>"
      ]
     },
     "metadata": {
      "needs_background": "light"
     },
     "output_type": "display_data"
    }
   ],
   "source": [
    "fig = scatter_df.plot(kind='scatter', x='Year', y='CSIRO Adjusted Sea Level', figsize=(15,7))\n",
    "plt.title('Rise in the sea level')\n",
    "x = pd.Series(np.arange(1880, 2051))\n",
    "y = line1_df['CSIRO Adjusted Sea Level']\n",
    "plt.plot(x, y, 'r')\n",
    "x = pd.Series(np.arange(2000, 2051))\n",
    "y = line2_df['CSIRO Adjusted Sea Level']\n",
    "plt.plot(x, y, 'y')\n",
    "fig.set_ylabel('Sea level (inches)')\n",
    "fig.set_xlabel('Year')\n",
    "fig.set_title('Rise in the sea level')"
   ]
  },
  {
   "cell_type": "code",
   "execution_count": null,
   "id": "544644ca-d673-4cd2-8f56-8392055d1a2c",
   "metadata": {},
   "outputs": [],
   "source": []
  }
 ],
 "metadata": {
  "kernelspec": {
   "display_name": "Python 3 (ipykernel)",
   "language": "python",
   "name": "python3"
  },
  "language_info": {
   "codemirror_mode": {
    "name": "ipython",
    "version": 3
   },
   "file_extension": ".py",
   "mimetype": "text/x-python",
   "name": "python",
   "nbconvert_exporter": "python",
   "pygments_lexer": "ipython3",
   "version": "3.10.4"
  }
 },
 "nbformat": 4,
 "nbformat_minor": 5
}
