{
 "cells": [
  {
   "cell_type": "markdown",
   "metadata": {},
   "source": [
    "# Test 2: Pandas\n",
    "\n",
    " - open book\n",
    " - 100 points\n",
    " - due by today's midnight\n",
    "\n"
   ]
  },
  {
   "cell_type": "markdown",
   "metadata": {},
   "source": [
    "### Election Dataset:\n",
    "   - Election dataset contains donation data for 2012 Presidential Election. \n",
    "      \n",
    "      \n",
    "   - The dataset can be downloaded from our book's github.\n",
    "   \n",
    "   https://github.com/wesm/pydata-book/blob/2nd-edition/datasets/fec/P00000001-ALL.csv\n",
    "     \n",
    "     \n",
    "   - Originally Data is also available in Federal Election Commission webpage. \n",
    "     \n",
    "     \n",
    "   - For your convenience, it is also available from Blackboard, named <span class=\"mark\">\"Election.csv</span>\".\n",
    "    \n",
    "**Now, let's do some analyses on this dataset.**\n"
   ]
  },
  {
   "cell_type": "code",
   "execution_count": 1,
   "metadata": {
    "ExecuteTime": {
     "end_time": "2021-12-06T20:00:19.594680Z",
     "start_time": "2021-12-06T20:00:18.901024Z"
    }
   },
   "outputs": [],
   "source": [
    "# import the libraries\n",
    "import pandas as pd\n",
    "import matplotlib.pyplot as plt\n",
    "import numpy as np\n",
    "\n",
    "# you can add more libraries if needed"
   ]
  },
  {
   "cell_type": "markdown",
   "metadata": {},
   "source": [
    "---\n",
    "## (0) Load and view DATA <span class=\"mark\">(15%)</span>\n",
    "\n",
    "#### First, please download the data file \"Election.csv\" and save it to your local disck\n",
    "\n"
   ]
  },
  {
   "cell_type": "code",
   "execution_count": 2,
   "metadata": {
    "ExecuteTime": {
     "end_time": "2021-12-06T20:03:44.269281Z",
     "start_time": "2021-12-06T20:03:44.265293Z"
    }
   },
   "outputs": [
    {
     "name": "stderr",
     "output_type": "stream",
     "text": [
      "C:\\Users\\andri\\AppData\\Local\\Temp\\ipykernel_7840\\2172038992.py:7: DtypeWarning: Columns (6) have mixed types. Specify dtype option on import or set low_memory=False.\n",
      "  df = pd.read_csv('C:/Users/andri/Election.csv')\n"
     ]
    },
    {
     "data": {
      "text/html": [
       "<div>\n",
       "<style scoped>\n",
       "    .dataframe tbody tr th:only-of-type {\n",
       "        vertical-align: middle;\n",
       "    }\n",
       "\n",
       "    .dataframe tbody tr th {\n",
       "        vertical-align: top;\n",
       "    }\n",
       "\n",
       "    .dataframe thead th {\n",
       "        text-align: right;\n",
       "    }\n",
       "</style>\n",
       "<table border=\"1\" class=\"dataframe\">\n",
       "  <thead>\n",
       "    <tr style=\"text-align: right;\">\n",
       "      <th></th>\n",
       "      <th>cmte_id</th>\n",
       "      <th>cand_id</th>\n",
       "      <th>cand_nm</th>\n",
       "      <th>contbr_nm</th>\n",
       "      <th>contbr_city</th>\n",
       "      <th>contbr_st</th>\n",
       "      <th>contbr_zip</th>\n",
       "      <th>contbr_employer</th>\n",
       "      <th>contbr_occupation</th>\n",
       "      <th>contb_receipt_amt</th>\n",
       "      <th>contb_receipt_dt</th>\n",
       "      <th>receipt_desc</th>\n",
       "      <th>memo_cd</th>\n",
       "      <th>memo_text</th>\n",
       "      <th>form_tp</th>\n",
       "      <th>file_num</th>\n",
       "    </tr>\n",
       "  </thead>\n",
       "  <tbody>\n",
       "    <tr>\n",
       "      <th>0</th>\n",
       "      <td>C00410118</td>\n",
       "      <td>P20002978</td>\n",
       "      <td>Bachmann, Michelle</td>\n",
       "      <td>HARVEY, WILLIAM</td>\n",
       "      <td>MOBILE</td>\n",
       "      <td>AL</td>\n",
       "      <td>366010290.0</td>\n",
       "      <td>RETIRED</td>\n",
       "      <td>RETIRED</td>\n",
       "      <td>250.0</td>\n",
       "      <td>20-Jun-11</td>\n",
       "      <td>NaN</td>\n",
       "      <td>NaN</td>\n",
       "      <td>NaN</td>\n",
       "      <td>SA17A</td>\n",
       "      <td>736166</td>\n",
       "    </tr>\n",
       "    <tr>\n",
       "      <th>1</th>\n",
       "      <td>C00410118</td>\n",
       "      <td>P20002978</td>\n",
       "      <td>Bachmann, Michelle</td>\n",
       "      <td>HARVEY, WILLIAM</td>\n",
       "      <td>MOBILE</td>\n",
       "      <td>AL</td>\n",
       "      <td>366010290.0</td>\n",
       "      <td>RETIRED</td>\n",
       "      <td>RETIRED</td>\n",
       "      <td>50.0</td>\n",
       "      <td>23-Jun-11</td>\n",
       "      <td>NaN</td>\n",
       "      <td>NaN</td>\n",
       "      <td>NaN</td>\n",
       "      <td>SA17A</td>\n",
       "      <td>736166</td>\n",
       "    </tr>\n",
       "    <tr>\n",
       "      <th>2</th>\n",
       "      <td>C00410118</td>\n",
       "      <td>P20002978</td>\n",
       "      <td>Bachmann, Michelle</td>\n",
       "      <td>SMITH, LANIER</td>\n",
       "      <td>LANETT</td>\n",
       "      <td>AL</td>\n",
       "      <td>368633403.0</td>\n",
       "      <td>INFORMATION REQUESTED</td>\n",
       "      <td>INFORMATION REQUESTED</td>\n",
       "      <td>250.0</td>\n",
       "      <td>5-Jul-11</td>\n",
       "      <td>NaN</td>\n",
       "      <td>NaN</td>\n",
       "      <td>NaN</td>\n",
       "      <td>SA17A</td>\n",
       "      <td>749073</td>\n",
       "    </tr>\n",
       "    <tr>\n",
       "      <th>3</th>\n",
       "      <td>C00410118</td>\n",
       "      <td>P20002978</td>\n",
       "      <td>Bachmann, Michelle</td>\n",
       "      <td>BLEVINS, DARONDA</td>\n",
       "      <td>PIGGOTT</td>\n",
       "      <td>AR</td>\n",
       "      <td>724548253.0</td>\n",
       "      <td>NONE</td>\n",
       "      <td>RETIRED</td>\n",
       "      <td>250.0</td>\n",
       "      <td>1-Aug-11</td>\n",
       "      <td>NaN</td>\n",
       "      <td>NaN</td>\n",
       "      <td>NaN</td>\n",
       "      <td>SA17A</td>\n",
       "      <td>749073</td>\n",
       "    </tr>\n",
       "    <tr>\n",
       "      <th>4</th>\n",
       "      <td>C00410118</td>\n",
       "      <td>P20002978</td>\n",
       "      <td>Bachmann, Michelle</td>\n",
       "      <td>WARDENBURG, HAROLD</td>\n",
       "      <td>HOT SPRINGS NATION</td>\n",
       "      <td>AR</td>\n",
       "      <td>719016467.0</td>\n",
       "      <td>NONE</td>\n",
       "      <td>RETIRED</td>\n",
       "      <td>300.0</td>\n",
       "      <td>20-Jun-11</td>\n",
       "      <td>NaN</td>\n",
       "      <td>NaN</td>\n",
       "      <td>NaN</td>\n",
       "      <td>SA17A</td>\n",
       "      <td>736166</td>\n",
       "    </tr>\n",
       "  </tbody>\n",
       "</table>\n",
       "</div>"
      ],
      "text/plain": [
       "     cmte_id    cand_id             cand_nm           contbr_nm  \\\n",
       "0  C00410118  P20002978  Bachmann, Michelle     HARVEY, WILLIAM   \n",
       "1  C00410118  P20002978  Bachmann, Michelle     HARVEY, WILLIAM   \n",
       "2  C00410118  P20002978  Bachmann, Michelle       SMITH, LANIER   \n",
       "3  C00410118  P20002978  Bachmann, Michelle    BLEVINS, DARONDA   \n",
       "4  C00410118  P20002978  Bachmann, Michelle  WARDENBURG, HAROLD   \n",
       "\n",
       "          contbr_city contbr_st   contbr_zip        contbr_employer  \\\n",
       "0              MOBILE        AL  366010290.0                RETIRED   \n",
       "1              MOBILE        AL  366010290.0                RETIRED   \n",
       "2              LANETT        AL  368633403.0  INFORMATION REQUESTED   \n",
       "3             PIGGOTT        AR  724548253.0                   NONE   \n",
       "4  HOT SPRINGS NATION        AR  719016467.0                   NONE   \n",
       "\n",
       "       contbr_occupation  contb_receipt_amt contb_receipt_dt receipt_desc  \\\n",
       "0                RETIRED              250.0        20-Jun-11          NaN   \n",
       "1                RETIRED               50.0        23-Jun-11          NaN   \n",
       "2  INFORMATION REQUESTED              250.0         5-Jul-11          NaN   \n",
       "3                RETIRED              250.0         1-Aug-11          NaN   \n",
       "4                RETIRED              300.0        20-Jun-11          NaN   \n",
       "\n",
       "  memo_cd memo_text form_tp  file_num  \n",
       "0     NaN       NaN   SA17A    736166  \n",
       "1     NaN       NaN   SA17A    736166  \n",
       "2     NaN       NaN   SA17A    749073  \n",
       "3     NaN       NaN   SA17A    749073  \n",
       "4     NaN       NaN   SA17A    736166  "
      ]
     },
     "execution_count": 2,
     "metadata": {},
     "output_type": "execute_result"
    }
   ],
   "source": [
    "# Read in the \"Election.csv\" file and assign the dataset to a dataframe named df\n",
    "# You will get warning about the Columns (6). We will take care of it later\n",
    "\n",
    "\n",
    "## <Your code>  \n",
    "\n",
    "df = pd.read_csv('Election.csv')\n",
    "df.head()"
   ]
  },
  {
   "cell_type": "code",
   "execution_count": 3,
   "metadata": {
    "ExecuteTime": {
     "end_time": "2021-12-06T20:03:49.951026Z",
     "start_time": "2021-12-06T20:03:49.934074Z"
    }
   },
   "outputs": [
    {
     "data": {
      "text/plain": [
       "(1001731, 16)"
      ]
     },
     "execution_count": 3,
     "metadata": {},
     "output_type": "execute_result"
    }
   ],
   "source": [
    "# Check dataframe df shape: (1001731, 16)\n",
    "df.shape\n",
    "\n"
   ]
  },
  {
   "cell_type": "code",
   "execution_count": 4,
   "metadata": {
    "ExecuteTime": {
     "end_time": "2021-12-06T20:03:55.146898Z",
     "start_time": "2021-12-06T20:03:55.142909Z"
    }
   },
   "outputs": [
    {
     "data": {
      "text/html": [
       "<div>\n",
       "<style scoped>\n",
       "    .dataframe tbody tr th:only-of-type {\n",
       "        vertical-align: middle;\n",
       "    }\n",
       "\n",
       "    .dataframe tbody tr th {\n",
       "        vertical-align: top;\n",
       "    }\n",
       "\n",
       "    .dataframe thead th {\n",
       "        text-align: right;\n",
       "    }\n",
       "</style>\n",
       "<table border=\"1\" class=\"dataframe\">\n",
       "  <thead>\n",
       "    <tr style=\"text-align: right;\">\n",
       "      <th></th>\n",
       "      <th>cmte_id</th>\n",
       "      <th>cand_id</th>\n",
       "      <th>cand_nm</th>\n",
       "      <th>contbr_nm</th>\n",
       "      <th>contbr_city</th>\n",
       "      <th>contbr_st</th>\n",
       "      <th>contbr_zip</th>\n",
       "      <th>contbr_employer</th>\n",
       "      <th>contbr_occupation</th>\n",
       "      <th>contb_receipt_amt</th>\n",
       "      <th>contb_receipt_dt</th>\n",
       "      <th>receipt_desc</th>\n",
       "      <th>memo_cd</th>\n",
       "      <th>memo_text</th>\n",
       "      <th>form_tp</th>\n",
       "      <th>file_num</th>\n",
       "    </tr>\n",
       "  </thead>\n",
       "  <tbody>\n",
       "    <tr>\n",
       "      <th>0</th>\n",
       "      <td>C00410118</td>\n",
       "      <td>P20002978</td>\n",
       "      <td>Bachmann, Michelle</td>\n",
       "      <td>HARVEY, WILLIAM</td>\n",
       "      <td>MOBILE</td>\n",
       "      <td>AL</td>\n",
       "      <td>366010290.0</td>\n",
       "      <td>RETIRED</td>\n",
       "      <td>RETIRED</td>\n",
       "      <td>250.0</td>\n",
       "      <td>20-Jun-11</td>\n",
       "      <td>NaN</td>\n",
       "      <td>NaN</td>\n",
       "      <td>NaN</td>\n",
       "      <td>SA17A</td>\n",
       "      <td>736166</td>\n",
       "    </tr>\n",
       "    <tr>\n",
       "      <th>1</th>\n",
       "      <td>C00410118</td>\n",
       "      <td>P20002978</td>\n",
       "      <td>Bachmann, Michelle</td>\n",
       "      <td>HARVEY, WILLIAM</td>\n",
       "      <td>MOBILE</td>\n",
       "      <td>AL</td>\n",
       "      <td>366010290.0</td>\n",
       "      <td>RETIRED</td>\n",
       "      <td>RETIRED</td>\n",
       "      <td>50.0</td>\n",
       "      <td>23-Jun-11</td>\n",
       "      <td>NaN</td>\n",
       "      <td>NaN</td>\n",
       "      <td>NaN</td>\n",
       "      <td>SA17A</td>\n",
       "      <td>736166</td>\n",
       "    </tr>\n",
       "    <tr>\n",
       "      <th>2</th>\n",
       "      <td>C00410118</td>\n",
       "      <td>P20002978</td>\n",
       "      <td>Bachmann, Michelle</td>\n",
       "      <td>SMITH, LANIER</td>\n",
       "      <td>LANETT</td>\n",
       "      <td>AL</td>\n",
       "      <td>368633403.0</td>\n",
       "      <td>INFORMATION REQUESTED</td>\n",
       "      <td>INFORMATION REQUESTED</td>\n",
       "      <td>250.0</td>\n",
       "      <td>5-Jul-11</td>\n",
       "      <td>NaN</td>\n",
       "      <td>NaN</td>\n",
       "      <td>NaN</td>\n",
       "      <td>SA17A</td>\n",
       "      <td>749073</td>\n",
       "    </tr>\n",
       "    <tr>\n",
       "      <th>3</th>\n",
       "      <td>C00410118</td>\n",
       "      <td>P20002978</td>\n",
       "      <td>Bachmann, Michelle</td>\n",
       "      <td>BLEVINS, DARONDA</td>\n",
       "      <td>PIGGOTT</td>\n",
       "      <td>AR</td>\n",
       "      <td>724548253.0</td>\n",
       "      <td>NONE</td>\n",
       "      <td>RETIRED</td>\n",
       "      <td>250.0</td>\n",
       "      <td>1-Aug-11</td>\n",
       "      <td>NaN</td>\n",
       "      <td>NaN</td>\n",
       "      <td>NaN</td>\n",
       "      <td>SA17A</td>\n",
       "      <td>749073</td>\n",
       "    </tr>\n",
       "    <tr>\n",
       "      <th>4</th>\n",
       "      <td>C00410118</td>\n",
       "      <td>P20002978</td>\n",
       "      <td>Bachmann, Michelle</td>\n",
       "      <td>WARDENBURG, HAROLD</td>\n",
       "      <td>HOT SPRINGS NATION</td>\n",
       "      <td>AR</td>\n",
       "      <td>719016467.0</td>\n",
       "      <td>NONE</td>\n",
       "      <td>RETIRED</td>\n",
       "      <td>300.0</td>\n",
       "      <td>20-Jun-11</td>\n",
       "      <td>NaN</td>\n",
       "      <td>NaN</td>\n",
       "      <td>NaN</td>\n",
       "      <td>SA17A</td>\n",
       "      <td>736166</td>\n",
       "    </tr>\n",
       "  </tbody>\n",
       "</table>\n",
       "</div>"
      ],
      "text/plain": [
       "     cmte_id    cand_id             cand_nm           contbr_nm  \\\n",
       "0  C00410118  P20002978  Bachmann, Michelle     HARVEY, WILLIAM   \n",
       "1  C00410118  P20002978  Bachmann, Michelle     HARVEY, WILLIAM   \n",
       "2  C00410118  P20002978  Bachmann, Michelle       SMITH, LANIER   \n",
       "3  C00410118  P20002978  Bachmann, Michelle    BLEVINS, DARONDA   \n",
       "4  C00410118  P20002978  Bachmann, Michelle  WARDENBURG, HAROLD   \n",
       "\n",
       "          contbr_city contbr_st   contbr_zip        contbr_employer  \\\n",
       "0              MOBILE        AL  366010290.0                RETIRED   \n",
       "1              MOBILE        AL  366010290.0                RETIRED   \n",
       "2              LANETT        AL  368633403.0  INFORMATION REQUESTED   \n",
       "3             PIGGOTT        AR  724548253.0                   NONE   \n",
       "4  HOT SPRINGS NATION        AR  719016467.0                   NONE   \n",
       "\n",
       "       contbr_occupation  contb_receipt_amt contb_receipt_dt receipt_desc  \\\n",
       "0                RETIRED              250.0        20-Jun-11          NaN   \n",
       "1                RETIRED               50.0        23-Jun-11          NaN   \n",
       "2  INFORMATION REQUESTED              250.0         5-Jul-11          NaN   \n",
       "3                RETIRED              250.0         1-Aug-11          NaN   \n",
       "4                RETIRED              300.0        20-Jun-11          NaN   \n",
       "\n",
       "  memo_cd memo_text form_tp  file_num  \n",
       "0     NaN       NaN   SA17A    736166  \n",
       "1     NaN       NaN   SA17A    736166  \n",
       "2     NaN       NaN   SA17A    749073  \n",
       "3     NaN       NaN   SA17A    749073  \n",
       "4     NaN       NaN   SA17A    736166  "
      ]
     },
     "execution_count": 4,
     "metadata": {},
     "output_type": "execute_result"
    }
   ],
   "source": [
    "# Show first 5 rows of the df\n",
    "df.head(5)\n"
   ]
  },
  {
   "cell_type": "code",
   "execution_count": 5,
   "metadata": {
    "ExecuteTime": {
     "end_time": "2021-12-06T20:03:59.610171Z",
     "start_time": "2021-12-06T20:03:59.594212Z"
    }
   },
   "outputs": [
    {
     "data": {
      "text/plain": [
       "Index(['cmte_id', 'cand_id', 'cand_nm', 'contbr_nm', 'contbr_city',\n",
       "       'contbr_st', 'contbr_zip', 'contbr_employer', 'contbr_occupation',\n",
       "       'contb_receipt_amt', 'contb_receipt_dt', 'receipt_desc', 'memo_cd',\n",
       "       'memo_text', 'form_tp', 'file_num'],\n",
       "      dtype='object')"
      ]
     },
     "execution_count": 5,
     "metadata": {},
     "output_type": "execute_result"
    }
   ],
   "source": [
    "# List all col names of the df\n",
    "\n",
    "df.columns\n"
   ]
  },
  {
   "cell_type": "code",
   "execution_count": 6,
   "metadata": {
    "ExecuteTime": {
     "end_time": "2021-12-06T20:04:02.814786Z",
     "start_time": "2021-12-06T20:04:02.809801Z"
    }
   },
   "outputs": [
    {
     "data": {
      "text/html": [
       "<div>\n",
       "<style scoped>\n",
       "    .dataframe tbody tr th:only-of-type {\n",
       "        vertical-align: middle;\n",
       "    }\n",
       "\n",
       "    .dataframe tbody tr th {\n",
       "        vertical-align: top;\n",
       "    }\n",
       "\n",
       "    .dataframe thead th {\n",
       "        text-align: right;\n",
       "    }\n",
       "</style>\n",
       "<table border=\"1\" class=\"dataframe\">\n",
       "  <thead>\n",
       "    <tr style=\"text-align: right;\">\n",
       "      <th></th>\n",
       "      <th>cmte_id</th>\n",
       "      <th>cand_id</th>\n",
       "      <th>cand_nm</th>\n",
       "      <th>contbr_nm</th>\n",
       "      <th>contbr_city</th>\n",
       "      <th>contbr_st</th>\n",
       "      <th>contbr_zip</th>\n",
       "      <th>contbr_employer</th>\n",
       "      <th>contbr_occupation</th>\n",
       "      <th>contb_receipt_amt</th>\n",
       "      <th>contb_receipt_dt</th>\n",
       "      <th>receipt_desc</th>\n",
       "      <th>memo_cd</th>\n",
       "      <th>memo_text</th>\n",
       "      <th>form_tp</th>\n",
       "      <th>file_num</th>\n",
       "    </tr>\n",
       "  </thead>\n",
       "  <tbody>\n",
       "    <tr>\n",
       "      <th>1001721</th>\n",
       "      <td>C00500587</td>\n",
       "      <td>P20003281</td>\n",
       "      <td>Perry, Rick</td>\n",
       "      <td>HANSEN, STEVE MR.</td>\n",
       "      <td>CHEYENNE</td>\n",
       "      <td>WY</td>\n",
       "      <td>820013163</td>\n",
       "      <td>TEXAS ENERGY LLC</td>\n",
       "      <td>EXECUTIVE</td>\n",
       "      <td>250.0</td>\n",
       "      <td>15-Nov-11</td>\n",
       "      <td>NaN</td>\n",
       "      <td>X</td>\n",
       "      <td>SEE ATTRIBUTION</td>\n",
       "      <td>SA17A</td>\n",
       "      <td>772060</td>\n",
       "    </tr>\n",
       "    <tr>\n",
       "      <th>1001722</th>\n",
       "      <td>C00500587</td>\n",
       "      <td>P20003281</td>\n",
       "      <td>Perry, Rick</td>\n",
       "      <td>HARDER, ROBERT</td>\n",
       "      <td>POWELL</td>\n",
       "      <td>WY</td>\n",
       "      <td>824359238</td>\n",
       "      <td>NaN</td>\n",
       "      <td>RETIRED</td>\n",
       "      <td>100.0</td>\n",
       "      <td>29-Oct-11</td>\n",
       "      <td>NaN</td>\n",
       "      <td>NaN</td>\n",
       "      <td>NaN</td>\n",
       "      <td>SA17A</td>\n",
       "      <td>772060</td>\n",
       "    </tr>\n",
       "    <tr>\n",
       "      <th>1001723</th>\n",
       "      <td>C00500587</td>\n",
       "      <td>P20003281</td>\n",
       "      <td>Perry, Rick</td>\n",
       "      <td>HARDER, ROBERT</td>\n",
       "      <td>POWELL</td>\n",
       "      <td>WY</td>\n",
       "      <td>824359238</td>\n",
       "      <td>NaN</td>\n",
       "      <td>RETIRED</td>\n",
       "      <td>100.0</td>\n",
       "      <td>30-Nov-11</td>\n",
       "      <td>NaN</td>\n",
       "      <td>NaN</td>\n",
       "      <td>NaN</td>\n",
       "      <td>SA17A</td>\n",
       "      <td>772060</td>\n",
       "    </tr>\n",
       "    <tr>\n",
       "      <th>1001724</th>\n",
       "      <td>C00500587</td>\n",
       "      <td>P20003281</td>\n",
       "      <td>Perry, Rick</td>\n",
       "      <td>HEFFERNAN, JILL PRINCE MRS.</td>\n",
       "      <td>INFO REQUESTED</td>\n",
       "      <td>XX</td>\n",
       "      <td>99999</td>\n",
       "      <td>INFORMATION REQUESTED PER BEST EFFORTS</td>\n",
       "      <td>INFORMATION REQUESTED PER BEST EFFORTS</td>\n",
       "      <td>500.0</td>\n",
       "      <td>30-Sep-11</td>\n",
       "      <td>NaN</td>\n",
       "      <td>NaN</td>\n",
       "      <td>NaN</td>\n",
       "      <td>SA17A</td>\n",
       "      <td>751678</td>\n",
       "    </tr>\n",
       "    <tr>\n",
       "      <th>1001725</th>\n",
       "      <td>C00500587</td>\n",
       "      <td>P20003281</td>\n",
       "      <td>Perry, Rick</td>\n",
       "      <td>ELWOOD, MIKE MR.</td>\n",
       "      <td>INFO REQUESTED</td>\n",
       "      <td>XX</td>\n",
       "      <td>99999</td>\n",
       "      <td>AM COAL</td>\n",
       "      <td>ENGINEER</td>\n",
       "      <td>2500.0</td>\n",
       "      <td>30-Sep-11</td>\n",
       "      <td>NaN</td>\n",
       "      <td>NaN</td>\n",
       "      <td>NaN</td>\n",
       "      <td>SA17A</td>\n",
       "      <td>751678</td>\n",
       "    </tr>\n",
       "    <tr>\n",
       "      <th>1001726</th>\n",
       "      <td>C00500587</td>\n",
       "      <td>P20003281</td>\n",
       "      <td>Perry, Rick</td>\n",
       "      <td>GORMAN, CHRIS D. MR.</td>\n",
       "      <td>INFO REQUESTED</td>\n",
       "      <td>XX</td>\n",
       "      <td>99999</td>\n",
       "      <td>INFORMATION REQUESTED PER BEST EFFORTS</td>\n",
       "      <td>INFORMATION REQUESTED PER BEST EFFORTS</td>\n",
       "      <td>5000.0</td>\n",
       "      <td>29-Sep-11</td>\n",
       "      <td>REATTRIBUTION / REDESIGNATION REQUESTED (AUTOM...</td>\n",
       "      <td>NaN</td>\n",
       "      <td>REATTRIBUTION / REDESIGNATION REQUESTED (AUTOM...</td>\n",
       "      <td>SA17A</td>\n",
       "      <td>751678</td>\n",
       "    </tr>\n",
       "    <tr>\n",
       "      <th>1001727</th>\n",
       "      <td>C00500587</td>\n",
       "      <td>P20003281</td>\n",
       "      <td>Perry, Rick</td>\n",
       "      <td>DUFFY, DAVID A. MR.</td>\n",
       "      <td>INFO REQUESTED</td>\n",
       "      <td>XX</td>\n",
       "      <td>99999</td>\n",
       "      <td>DUFFY EQUIPMENT COMPANY INC.</td>\n",
       "      <td>BUSINESS OWNER</td>\n",
       "      <td>2500.0</td>\n",
       "      <td>30-Sep-11</td>\n",
       "      <td>NaN</td>\n",
       "      <td>NaN</td>\n",
       "      <td>NaN</td>\n",
       "      <td>SA17A</td>\n",
       "      <td>751678</td>\n",
       "    </tr>\n",
       "    <tr>\n",
       "      <th>1001728</th>\n",
       "      <td>C00500587</td>\n",
       "      <td>P20003281</td>\n",
       "      <td>Perry, Rick</td>\n",
       "      <td>GRANE, BRYAN F. MR.</td>\n",
       "      <td>INFO REQUESTED</td>\n",
       "      <td>XX</td>\n",
       "      <td>99999</td>\n",
       "      <td>INFORMATION REQUESTED PER BEST EFFORTS</td>\n",
       "      <td>INFORMATION REQUESTED PER BEST EFFORTS</td>\n",
       "      <td>500.0</td>\n",
       "      <td>29-Sep-11</td>\n",
       "      <td>NaN</td>\n",
       "      <td>NaN</td>\n",
       "      <td>NaN</td>\n",
       "      <td>SA17A</td>\n",
       "      <td>751678</td>\n",
       "    </tr>\n",
       "    <tr>\n",
       "      <th>1001729</th>\n",
       "      <td>C00500587</td>\n",
       "      <td>P20003281</td>\n",
       "      <td>Perry, Rick</td>\n",
       "      <td>TOLBERT, DARYL MR.</td>\n",
       "      <td>INFO REQUESTED</td>\n",
       "      <td>XX</td>\n",
       "      <td>99999</td>\n",
       "      <td>T.A.C.C.</td>\n",
       "      <td>LONGWALL MAINTENANCE FOREMAN</td>\n",
       "      <td>500.0</td>\n",
       "      <td>30-Sep-11</td>\n",
       "      <td>NaN</td>\n",
       "      <td>NaN</td>\n",
       "      <td>NaN</td>\n",
       "      <td>SA17A</td>\n",
       "      <td>751678</td>\n",
       "    </tr>\n",
       "    <tr>\n",
       "      <th>1001730</th>\n",
       "      <td>C00500587</td>\n",
       "      <td>P20003281</td>\n",
       "      <td>Perry, Rick</td>\n",
       "      <td>ANDERSON, MARILEE MRS.</td>\n",
       "      <td>INFO REQUESTED</td>\n",
       "      <td>XX</td>\n",
       "      <td>99999</td>\n",
       "      <td>INFORMATION REQUESTED PER BEST EFFORTS</td>\n",
       "      <td>INFORMATION REQUESTED PER BEST EFFORTS</td>\n",
       "      <td>2500.0</td>\n",
       "      <td>31-Aug-11</td>\n",
       "      <td>NaN</td>\n",
       "      <td>NaN</td>\n",
       "      <td>NaN</td>\n",
       "      <td>SA17A</td>\n",
       "      <td>751678</td>\n",
       "    </tr>\n",
       "  </tbody>\n",
       "</table>\n",
       "</div>"
      ],
      "text/plain": [
       "           cmte_id    cand_id      cand_nm                    contbr_nm  \\\n",
       "1001721  C00500587  P20003281  Perry, Rick            HANSEN, STEVE MR.   \n",
       "1001722  C00500587  P20003281  Perry, Rick               HARDER, ROBERT   \n",
       "1001723  C00500587  P20003281  Perry, Rick               HARDER, ROBERT   \n",
       "1001724  C00500587  P20003281  Perry, Rick  HEFFERNAN, JILL PRINCE MRS.   \n",
       "1001725  C00500587  P20003281  Perry, Rick             ELWOOD, MIKE MR.   \n",
       "1001726  C00500587  P20003281  Perry, Rick         GORMAN, CHRIS D. MR.   \n",
       "1001727  C00500587  P20003281  Perry, Rick          DUFFY, DAVID A. MR.   \n",
       "1001728  C00500587  P20003281  Perry, Rick          GRANE, BRYAN F. MR.   \n",
       "1001729  C00500587  P20003281  Perry, Rick           TOLBERT, DARYL MR.   \n",
       "1001730  C00500587  P20003281  Perry, Rick       ANDERSON, MARILEE MRS.   \n",
       "\n",
       "            contbr_city contbr_st contbr_zip  \\\n",
       "1001721        CHEYENNE        WY  820013163   \n",
       "1001722          POWELL        WY  824359238   \n",
       "1001723          POWELL        WY  824359238   \n",
       "1001724  INFO REQUESTED        XX      99999   \n",
       "1001725  INFO REQUESTED        XX      99999   \n",
       "1001726  INFO REQUESTED        XX      99999   \n",
       "1001727  INFO REQUESTED        XX      99999   \n",
       "1001728  INFO REQUESTED        XX      99999   \n",
       "1001729  INFO REQUESTED        XX      99999   \n",
       "1001730  INFO REQUESTED        XX      99999   \n",
       "\n",
       "                                contbr_employer  \\\n",
       "1001721                        TEXAS ENERGY LLC   \n",
       "1001722                                     NaN   \n",
       "1001723                                     NaN   \n",
       "1001724  INFORMATION REQUESTED PER BEST EFFORTS   \n",
       "1001725                                 AM COAL   \n",
       "1001726  INFORMATION REQUESTED PER BEST EFFORTS   \n",
       "1001727            DUFFY EQUIPMENT COMPANY INC.   \n",
       "1001728  INFORMATION REQUESTED PER BEST EFFORTS   \n",
       "1001729                                T.A.C.C.   \n",
       "1001730  INFORMATION REQUESTED PER BEST EFFORTS   \n",
       "\n",
       "                              contbr_occupation  contb_receipt_amt  \\\n",
       "1001721                               EXECUTIVE              250.0   \n",
       "1001722                                 RETIRED              100.0   \n",
       "1001723                                 RETIRED              100.0   \n",
       "1001724  INFORMATION REQUESTED PER BEST EFFORTS              500.0   \n",
       "1001725                                ENGINEER             2500.0   \n",
       "1001726  INFORMATION REQUESTED PER BEST EFFORTS             5000.0   \n",
       "1001727                          BUSINESS OWNER             2500.0   \n",
       "1001728  INFORMATION REQUESTED PER BEST EFFORTS              500.0   \n",
       "1001729            LONGWALL MAINTENANCE FOREMAN              500.0   \n",
       "1001730  INFORMATION REQUESTED PER BEST EFFORTS             2500.0   \n",
       "\n",
       "        contb_receipt_dt                                       receipt_desc  \\\n",
       "1001721        15-Nov-11                                                NaN   \n",
       "1001722        29-Oct-11                                                NaN   \n",
       "1001723        30-Nov-11                                                NaN   \n",
       "1001724        30-Sep-11                                                NaN   \n",
       "1001725        30-Sep-11                                                NaN   \n",
       "1001726        29-Sep-11  REATTRIBUTION / REDESIGNATION REQUESTED (AUTOM...   \n",
       "1001727        30-Sep-11                                                NaN   \n",
       "1001728        29-Sep-11                                                NaN   \n",
       "1001729        30-Sep-11                                                NaN   \n",
       "1001730        31-Aug-11                                                NaN   \n",
       "\n",
       "        memo_cd                                          memo_text form_tp  \\\n",
       "1001721       X                                    SEE ATTRIBUTION   SA17A   \n",
       "1001722     NaN                                                NaN   SA17A   \n",
       "1001723     NaN                                                NaN   SA17A   \n",
       "1001724     NaN                                                NaN   SA17A   \n",
       "1001725     NaN                                                NaN   SA17A   \n",
       "1001726     NaN  REATTRIBUTION / REDESIGNATION REQUESTED (AUTOM...   SA17A   \n",
       "1001727     NaN                                                NaN   SA17A   \n",
       "1001728     NaN                                                NaN   SA17A   \n",
       "1001729     NaN                                                NaN   SA17A   \n",
       "1001730     NaN                                                NaN   SA17A   \n",
       "\n",
       "         file_num  \n",
       "1001721    772060  \n",
       "1001722    772060  \n",
       "1001723    772060  \n",
       "1001724    751678  \n",
       "1001725    751678  \n",
       "1001726    751678  \n",
       "1001727    751678  \n",
       "1001728    751678  \n",
       "1001729    751678  \n",
       "1001730    751678  "
      ]
     },
     "execution_count": 6,
     "metadata": {},
     "output_type": "execute_result"
    }
   ],
   "source": [
    "# what are the last 10 df indices? (do not show more than 10 indices) \n",
    "\n",
    "df.tail(10)"
   ]
  },
  {
   "cell_type": "code",
   "execution_count": 7,
   "metadata": {
    "ExecuteTime": {
     "end_time": "2021-12-06T20:04:06.492472Z",
     "start_time": "2021-12-06T20:04:06.485490Z"
    }
   },
   "outputs": [
    {
     "name": "stdout",
     "output_type": "stream",
     "text": [
      "<class 'pandas.core.frame.DataFrame'>\n",
      "RangeIndex: 1001731 entries, 0 to 1001730\n",
      "Data columns (total 16 columns):\n",
      " #   Column             Non-Null Count    Dtype  \n",
      "---  ------             --------------    -----  \n",
      " 0   cmte_id            1001731 non-null  object \n",
      " 1   cand_id            1001731 non-null  object \n",
      " 2   cand_nm            1001731 non-null  object \n",
      " 3   contbr_nm          1001731 non-null  object \n",
      " 4   contbr_city        1001712 non-null  object \n",
      " 5   contbr_st          1001727 non-null  object \n",
      " 6   contbr_zip         1001620 non-null  object \n",
      " 7   contbr_employer    988002 non-null   object \n",
      " 8   contbr_occupation  993301 non-null   object \n",
      " 9   contb_receipt_amt  1001731 non-null  float64\n",
      " 10  contb_receipt_dt   1001731 non-null  object \n",
      " 11  receipt_desc       14166 non-null    object \n",
      " 12  memo_cd            92482 non-null    object \n",
      " 13  memo_text          97770 non-null    object \n",
      " 14  form_tp            1001731 non-null  object \n",
      " 15  file_num           1001731 non-null  int64  \n",
      "dtypes: float64(1), int64(1), object(14)\n",
      "memory usage: 122.3+ MB\n"
     ]
    }
   ],
   "source": [
    "#Check df info \n",
    "\n",
    "\n",
    "df.info()"
   ]
  },
  {
   "cell_type": "code",
   "execution_count": 8,
   "metadata": {
    "ExecuteTime": {
     "end_time": "2021-12-06T20:04:12.667379Z",
     "start_time": "2021-12-06T20:04:12.661402Z"
    }
   },
   "outputs": [
    {
     "data": {
      "text/html": [
       "<div>\n",
       "<style scoped>\n",
       "    .dataframe tbody tr th:only-of-type {\n",
       "        vertical-align: middle;\n",
       "    }\n",
       "\n",
       "    .dataframe tbody tr th {\n",
       "        vertical-align: top;\n",
       "    }\n",
       "\n",
       "    .dataframe thead th {\n",
       "        text-align: right;\n",
       "    }\n",
       "</style>\n",
       "<table border=\"1\" class=\"dataframe\">\n",
       "  <thead>\n",
       "    <tr style=\"text-align: right;\">\n",
       "      <th></th>\n",
       "      <th>contb_receipt_amt</th>\n",
       "      <th>file_num</th>\n",
       "    </tr>\n",
       "  </thead>\n",
       "  <tbody>\n",
       "    <tr>\n",
       "      <th>count</th>\n",
       "      <td>1.001731e+06</td>\n",
       "      <td>1.001731e+06</td>\n",
       "    </tr>\n",
       "    <tr>\n",
       "      <th>mean</th>\n",
       "      <td>2.982352e+02</td>\n",
       "      <td>7.744948e+05</td>\n",
       "    </tr>\n",
       "    <tr>\n",
       "      <th>std</th>\n",
       "      <td>3.749667e+03</td>\n",
       "      <td>1.059822e+04</td>\n",
       "    </tr>\n",
       "    <tr>\n",
       "      <th>min</th>\n",
       "      <td>-3.080000e+04</td>\n",
       "      <td>7.235110e+05</td>\n",
       "    </tr>\n",
       "    <tr>\n",
       "      <th>25%</th>\n",
       "      <td>3.500000e+01</td>\n",
       "      <td>7.719270e+05</td>\n",
       "    </tr>\n",
       "    <tr>\n",
       "      <th>50%</th>\n",
       "      <td>1.000000e+02</td>\n",
       "      <td>7.792250e+05</td>\n",
       "    </tr>\n",
       "    <tr>\n",
       "      <th>75%</th>\n",
       "      <td>2.500000e+02</td>\n",
       "      <td>7.802340e+05</td>\n",
       "    </tr>\n",
       "    <tr>\n",
       "      <th>max</th>\n",
       "      <td>2.014491e+06</td>\n",
       "      <td>7.878030e+05</td>\n",
       "    </tr>\n",
       "  </tbody>\n",
       "</table>\n",
       "</div>"
      ],
      "text/plain": [
       "       contb_receipt_amt      file_num\n",
       "count       1.001731e+06  1.001731e+06\n",
       "mean        2.982352e+02  7.744948e+05\n",
       "std         3.749667e+03  1.059822e+04\n",
       "min        -3.080000e+04  7.235110e+05\n",
       "25%         3.500000e+01  7.719270e+05\n",
       "50%         1.000000e+02  7.792250e+05\n",
       "75%         2.500000e+02  7.802340e+05\n",
       "max         2.014491e+06  7.878030e+05"
      ]
     },
     "execution_count": 8,
     "metadata": {},
     "output_type": "execute_result"
    }
   ],
   "source": [
    "# Describe df\n",
    "\n",
    "df.describe()\n"
   ]
  },
  {
   "cell_type": "markdown",
   "metadata": {},
   "source": [
    "---\n"
   ]
  },
  {
   "cell_type": "markdown",
   "metadata": {},
   "source": [
    "## (1) DATA  PREPARATION <span class=\"mark\">(10%)</span>\n",
    " - drop some irrelevant columns\n",
    " - check missing values again\n",
    " \n"
   ]
  },
  {
   "cell_type": "code",
   "execution_count": 9,
   "metadata": {
    "ExecuteTime": {
     "end_time": "2021-12-06T20:04:42.934861Z",
     "start_time": "2021-12-06T20:04:42.921898Z"
    }
   },
   "outputs": [
    {
     "data": {
      "text/plain": [
       "(1001731, 8)"
      ]
     },
     "execution_count": 9,
     "metadata": {},
     "output_type": "execute_result"
    }
   ],
   "source": [
    "# (1) create df1 by droping df's first two and the last 6 columns\n",
    "\n",
    "\n",
    "# or df1 = keep only 8 columns: from \"cand_nm\" to \"contb_receipt_amt\" \n",
    "\n",
    "df1 = df.drop(df.columns[[0, 1, -1, -2, -3, -4, -5, -6]], axis = 1)\n",
    "\n",
    "# chekc the df1's shape again \n",
    "df1.shape\n"
   ]
  },
  {
   "cell_type": "code",
   "execution_count": 10,
   "metadata": {
    "ExecuteTime": {
     "end_time": "2021-12-06T20:04:46.734842Z",
     "start_time": "2021-12-06T20:04:46.729856Z"
    }
   },
   "outputs": [
    {
     "data": {
      "text/html": [
       "<div>\n",
       "<style scoped>\n",
       "    .dataframe tbody tr th:only-of-type {\n",
       "        vertical-align: middle;\n",
       "    }\n",
       "\n",
       "    .dataframe tbody tr th {\n",
       "        vertical-align: top;\n",
       "    }\n",
       "\n",
       "    .dataframe thead th {\n",
       "        text-align: right;\n",
       "    }\n",
       "</style>\n",
       "<table border=\"1\" class=\"dataframe\">\n",
       "  <thead>\n",
       "    <tr style=\"text-align: right;\">\n",
       "      <th></th>\n",
       "      <th>cand_nm</th>\n",
       "      <th>contbr_nm</th>\n",
       "      <th>contbr_city</th>\n",
       "      <th>contbr_st</th>\n",
       "      <th>contbr_zip</th>\n",
       "      <th>contbr_employer</th>\n",
       "      <th>contbr_occupation</th>\n",
       "      <th>contb_receipt_amt</th>\n",
       "    </tr>\n",
       "  </thead>\n",
       "  <tbody>\n",
       "    <tr>\n",
       "      <th>0</th>\n",
       "      <td>Bachmann, Michelle</td>\n",
       "      <td>HARVEY, WILLIAM</td>\n",
       "      <td>MOBILE</td>\n",
       "      <td>AL</td>\n",
       "      <td>366010290.0</td>\n",
       "      <td>RETIRED</td>\n",
       "      <td>RETIRED</td>\n",
       "      <td>250.0</td>\n",
       "    </tr>\n",
       "    <tr>\n",
       "      <th>1</th>\n",
       "      <td>Bachmann, Michelle</td>\n",
       "      <td>HARVEY, WILLIAM</td>\n",
       "      <td>MOBILE</td>\n",
       "      <td>AL</td>\n",
       "      <td>366010290.0</td>\n",
       "      <td>RETIRED</td>\n",
       "      <td>RETIRED</td>\n",
       "      <td>50.0</td>\n",
       "    </tr>\n",
       "    <tr>\n",
       "      <th>2</th>\n",
       "      <td>Bachmann, Michelle</td>\n",
       "      <td>SMITH, LANIER</td>\n",
       "      <td>LANETT</td>\n",
       "      <td>AL</td>\n",
       "      <td>368633403.0</td>\n",
       "      <td>INFORMATION REQUESTED</td>\n",
       "      <td>INFORMATION REQUESTED</td>\n",
       "      <td>250.0</td>\n",
       "    </tr>\n",
       "    <tr>\n",
       "      <th>3</th>\n",
       "      <td>Bachmann, Michelle</td>\n",
       "      <td>BLEVINS, DARONDA</td>\n",
       "      <td>PIGGOTT</td>\n",
       "      <td>AR</td>\n",
       "      <td>724548253.0</td>\n",
       "      <td>NONE</td>\n",
       "      <td>RETIRED</td>\n",
       "      <td>250.0</td>\n",
       "    </tr>\n",
       "    <tr>\n",
       "      <th>4</th>\n",
       "      <td>Bachmann, Michelle</td>\n",
       "      <td>WARDENBURG, HAROLD</td>\n",
       "      <td>HOT SPRINGS NATION</td>\n",
       "      <td>AR</td>\n",
       "      <td>719016467.0</td>\n",
       "      <td>NONE</td>\n",
       "      <td>RETIRED</td>\n",
       "      <td>300.0</td>\n",
       "    </tr>\n",
       "  </tbody>\n",
       "</table>\n",
       "</div>"
      ],
      "text/plain": [
       "              cand_nm           contbr_nm         contbr_city contbr_st  \\\n",
       "0  Bachmann, Michelle     HARVEY, WILLIAM              MOBILE        AL   \n",
       "1  Bachmann, Michelle     HARVEY, WILLIAM              MOBILE        AL   \n",
       "2  Bachmann, Michelle       SMITH, LANIER              LANETT        AL   \n",
       "3  Bachmann, Michelle    BLEVINS, DARONDA             PIGGOTT        AR   \n",
       "4  Bachmann, Michelle  WARDENBURG, HAROLD  HOT SPRINGS NATION        AR   \n",
       "\n",
       "    contbr_zip        contbr_employer      contbr_occupation  \\\n",
       "0  366010290.0                RETIRED                RETIRED   \n",
       "1  366010290.0                RETIRED                RETIRED   \n",
       "2  368633403.0  INFORMATION REQUESTED  INFORMATION REQUESTED   \n",
       "3  724548253.0                   NONE                RETIRED   \n",
       "4  719016467.0                   NONE                RETIRED   \n",
       "\n",
       "   contb_receipt_amt  \n",
       "0              250.0  \n",
       "1               50.0  \n",
       "2              250.0  \n",
       "3              250.0  \n",
       "4              300.0  "
      ]
     },
     "execution_count": 10,
     "metadata": {},
     "output_type": "execute_result"
    }
   ],
   "source": [
    "#display df1.head()\n",
    "df1.head()\n"
   ]
  },
  {
   "cell_type": "code",
   "execution_count": 11,
   "metadata": {
    "ExecuteTime": {
     "end_time": "2021-12-06T20:04:56.693063Z",
     "start_time": "2021-12-06T20:04:56.689099Z"
    }
   },
   "outputs": [
    {
     "name": "stdout",
     "output_type": "stream",
     "text": [
      "The number of missing values in cand_nm column is 0\n",
      "The number of missing values in contbr_nm column is 0\n",
      "The number of missing values in contbr_city column is 19\n",
      "The number of missing values in contbr_st column is 4\n",
      "The number of missing values in contbr_zip column is 111\n",
      "The number of missing values in contbr_employer column is 13729\n",
      "The number of missing values in contbr_occupation column is 8430\n",
      "The number of missing values in contb_receipt_amt column is 0\n",
      "The total number of missing values is 22293\n"
     ]
    }
   ],
   "source": [
    "# (2.1)  check and dispay the number of missing values for each column in df1\n",
    "\n",
    "for i in df1.columns:\n",
    "    print(f\"The number of missing values in {i} column is {df1[i].isnull().sum()}\")\n",
    "\n",
    "# (2.2) what is the total number of missing data (all missing data cells)\n",
    "\n",
    "print(f\"The total number of missing values is {df1.isnull().sum().sum()}\")"
   ]
  },
  {
   "cell_type": "code",
   "execution_count": 12,
   "metadata": {
    "ExecuteTime": {
     "end_time": "2021-12-06T20:05:07.510497Z",
     "start_time": "2021-12-06T20:05:07.501492Z"
    }
   },
   "outputs": [
    {
     "name": "stdout",
     "output_type": "stream",
     "text": [
      "The number of rows with at least one missing value is 15109\n"
     ]
    }
   ],
   "source": [
    "# (3) find out how many rows which have one or more missing value(s) in df1\n",
    "\n",
    "\n",
    "\n",
    "print(\"The number of rows with at least one missing value is\", df1.shape[0] - df1.dropna().shape[0])"
   ]
  },
  {
   "cell_type": "markdown",
   "metadata": {},
   "source": [
    "---"
   ]
  },
  {
   "cell_type": "markdown",
   "metadata": {},
   "source": [
    "##  (2) For df1: STATISTICS and PLOTING <span class=\"mark\">(20%)</span>\n",
    " #### <span class=\"mark\">For now, we like to keep the rows with missing values.</span>  \n",
    "\n"
   ]
  },
  {
   "cell_type": "code",
   "execution_count": 13,
   "metadata": {
    "ExecuteTime": {
     "end_time": "2021-12-06T20:05:12.620746Z",
     "start_time": "2021-12-06T20:05:12.613791Z"
    }
   },
   "outputs": [
    {
     "data": {
      "text/html": [
       "<div>\n",
       "<style scoped>\n",
       "    .dataframe tbody tr th:only-of-type {\n",
       "        vertical-align: middle;\n",
       "    }\n",
       "\n",
       "    .dataframe tbody tr th {\n",
       "        vertical-align: top;\n",
       "    }\n",
       "\n",
       "    .dataframe thead th {\n",
       "        text-align: right;\n",
       "    }\n",
       "</style>\n",
       "<table border=\"1\" class=\"dataframe\">\n",
       "  <thead>\n",
       "    <tr style=\"text-align: right;\">\n",
       "      <th></th>\n",
       "      <th>contb_receipt_amt</th>\n",
       "    </tr>\n",
       "  </thead>\n",
       "  <tbody>\n",
       "    <tr>\n",
       "      <th>max</th>\n",
       "      <td>2.014491e+06</td>\n",
       "    </tr>\n",
       "    <tr>\n",
       "      <th>min</th>\n",
       "      <td>-3.080000e+04</td>\n",
       "    </tr>\n",
       "    <tr>\n",
       "      <th>mean</th>\n",
       "      <td>2.982352e+02</td>\n",
       "    </tr>\n",
       "    <tr>\n",
       "      <th>std</th>\n",
       "      <td>3.749667e+03</td>\n",
       "    </tr>\n",
       "  </tbody>\n",
       "</table>\n",
       "</div>"
      ],
      "text/plain": [
       "      contb_receipt_amt\n",
       "max        2.014491e+06\n",
       "min       -3.080000e+04\n",
       "mean       2.982352e+02\n",
       "std        3.749667e+03"
      ]
     },
     "execution_count": 13,
     "metadata": {},
     "output_type": "execute_result"
    }
   ],
   "source": [
    "# For column \"contb_receipt_amt\" in df1:   find 'max', 'min', 'mean', 'std'  and print them out\n",
    "# use aggregation or agg \n",
    "\n",
    "df1.agg({'contb_receipt_amt': ['max', 'min', 'mean', 'std']})\n"
   ]
  },
  {
   "cell_type": "code",
   "execution_count": 14,
   "metadata": {
    "ExecuteTime": {
     "end_time": "2021-12-06T20:05:37.119969Z",
     "start_time": "2021-12-06T20:05:37.113972Z"
    }
   },
   "outputs": [
    {
     "name": "stdout",
     "output_type": "stream",
     "text": [
      "There are 9647 negative data in column 'contb_receipt_amt'\n",
      "There are 609 zeros in column 'contb_receipt_amt'\n",
      "There are 991475 positive donations\n"
     ]
    }
   ],
   "source": [
    "# For the \"contb_receipt_amt\" column in df1 again: \n",
    "\n",
    "# (1) there are some negative data, assuming they are refund (I guess)\n",
    "# print out how many\n",
    "\n",
    "print(\"There are\", \n",
    "      df1['contb_receipt_amt'].loc[df1['contb_receipt_amt']<0].count(),\n",
    "      \"negative data in column 'contb_receipt_amt'\")\n",
    "\n",
    "# (2) there are aslo some rows which are zeros\n",
    "# print out how many \n",
    "\n",
    "print(\"There are\", \n",
    "      df1['contb_receipt_amt'].loc[df1['contb_receipt_amt']==0].count(),\n",
    "      \"zeros in column 'contb_receipt_amt'\")\n",
    "\n",
    "# (3) Also find and print how many donations which are positive \n",
    "print(\"There are\", \n",
    "      df1['contb_receipt_amt'].loc[df1['contb_receipt_amt']>0].count(),\n",
    "      \"positive donations\")"
   ]
  },
  {
   "cell_type": "code",
   "execution_count": 15,
   "metadata": {
    "ExecuteTime": {
     "end_time": "2021-12-06T20:01:07.655894Z",
     "start_time": "2021-12-06T20:01:07.293538Z"
    }
   },
   "outputs": [
    {
     "data": {
      "text/plain": [
       "<AxesSubplot:>"
      ]
     },
     "execution_count": 15,
     "metadata": {},
     "output_type": "execute_result"
    },
    {
     "data": {
      "image/png": "[encoded data removed]",
      "text/plain": [
       "<Figure size 432x288 with 1 Axes>"
      ]
     },
     "metadata": {
      "needs_background": "light"
     },
     "output_type": "display_data"
    }
   ],
   "source": [
    "# For col \"contb_receipt_amt\": plot histgram (use only positive donations)\n",
    "\n",
    "\n",
    "\n",
    "\n",
    "df1['contb_receipt_amt'].loc[df1['contb_receipt_amt']>0].hist()\n"
   ]
  },
  {
   "cell_type": "code",
   "execution_count": 16,
   "metadata": {
    "ExecuteTime": {
     "end_time": "2021-12-06T20:05:52.357269Z",
     "start_time": "2021-12-06T20:05:52.353282Z"
    }
   },
   "outputs": [
    {
     "name": "stdout",
     "output_type": "stream",
     "text": [
      "The number of donations that are higher than $10K is: 12\n"
     ]
    }
   ],
   "source": [
    "# The graph above looks not good because some donations are big numbers. \n",
    "\n",
    "# How many donations are higher than $10K? \n",
    "\n",
    "\n",
    "\n",
    "print(\"The number of donations that are higher than $10K is:\",\n",
    "      df1['contb_receipt_amt'].loc[df1['contb_receipt_amt']>10000].count())"
   ]
  },
  {
   "cell_type": "code",
   "execution_count": 17,
   "metadata": {
    "ExecuteTime": {
     "end_time": "2021-12-06T20:01:14.192835Z",
     "start_time": "2021-12-06T20:01:13.911882Z"
    }
   },
   "outputs": [
    {
     "data": {
      "text/plain": [
       "<AxesSubplot:>"
      ]
     },
     "execution_count": 17,
     "metadata": {},
     "output_type": "execute_result"
    },
    {
     "data": {
      "image/png": "[encoded data removed]",
      "text/plain": [
       "<Figure size 432x288 with 1 Axes>"
      ]
     },
     "metadata": {
      "needs_background": "light"
     },
     "output_type": "display_data"
    }
   ],
   "source": [
    "# Plot again the histgram of \"contb_receipt_amt\": value in the range of larger than $0 but less than or equal to $1000  \n",
    "\n",
    "\n",
    "\n",
    "\n",
    "\n",
    "\n",
    "df1['contb_receipt_amt'].loc[(df1['contb_receipt_amt']>0) & (df1['contb_receipt_amt']<=1000)].hist()"
   ]
  },
  {
   "cell_type": "markdown",
   "metadata": {},
   "source": [
    "---\n"
   ]
  },
  {
   "cell_type": "markdown",
   "metadata": {},
   "source": [
    "## (3) df2: Group by candidates and values sorting<span class=\"mark\">(10%)</span>"
   ]
  },
  {
   "cell_type": "code",
   "execution_count": 18,
   "metadata": {
    "ExecuteTime": {
     "end_time": "2021-12-06T20:06:15.932045Z",
     "start_time": "2021-12-06T20:06:15.926026Z"
    }
   },
   "outputs": [
    {
     "data": {
      "text/html": [
       "<div>\n",
       "<style scoped>\n",
       "    .dataframe tbody tr th:only-of-type {\n",
       "        vertical-align: middle;\n",
       "    }\n",
       "\n",
       "    .dataframe tbody tr th {\n",
       "        vertical-align: top;\n",
       "    }\n",
       "\n",
       "    .dataframe thead th {\n",
       "        text-align: right;\n",
       "    }\n",
       "</style>\n",
       "<table border=\"1\" class=\"dataframe\">\n",
       "  <thead>\n",
       "    <tr style=\"text-align: right;\">\n",
       "      <th></th>\n",
       "      <th>cand_nm</th>\n",
       "      <th>contbr_nm</th>\n",
       "      <th>contb_receipt_amt</th>\n",
       "    </tr>\n",
       "  </thead>\n",
       "  <tbody>\n",
       "    <tr>\n",
       "      <th>0</th>\n",
       "      <td>Bachmann, Michelle</td>\n",
       "      <td>HARVEY, WILLIAM</td>\n",
       "      <td>250.0</td>\n",
       "    </tr>\n",
       "    <tr>\n",
       "      <th>1</th>\n",
       "      <td>Bachmann, Michelle</td>\n",
       "      <td>HARVEY, WILLIAM</td>\n",
       "      <td>50.0</td>\n",
       "    </tr>\n",
       "    <tr>\n",
       "      <th>2</th>\n",
       "      <td>Bachmann, Michelle</td>\n",
       "      <td>SMITH, LANIER</td>\n",
       "      <td>250.0</td>\n",
       "    </tr>\n",
       "    <tr>\n",
       "      <th>3</th>\n",
       "      <td>Bachmann, Michelle</td>\n",
       "      <td>BLEVINS, DARONDA</td>\n",
       "      <td>250.0</td>\n",
       "    </tr>\n",
       "    <tr>\n",
       "      <th>4</th>\n",
       "      <td>Bachmann, Michelle</td>\n",
       "      <td>WARDENBURG, HAROLD</td>\n",
       "      <td>300.0</td>\n",
       "    </tr>\n",
       "  </tbody>\n",
       "</table>\n",
       "</div>"
      ],
      "text/plain": [
       "              cand_nm           contbr_nm  contb_receipt_amt\n",
       "0  Bachmann, Michelle     HARVEY, WILLIAM              250.0\n",
       "1  Bachmann, Michelle     HARVEY, WILLIAM               50.0\n",
       "2  Bachmann, Michelle       SMITH, LANIER              250.0\n",
       "3  Bachmann, Michelle    BLEVINS, DARONDA              250.0\n",
       "4  Bachmann, Michelle  WARDENBURG, HAROLD              300.0"
      ]
     },
     "execution_count": 18,
     "metadata": {},
     "output_type": "execute_result"
    }
   ],
   "source": [
    "# (1) Start from df1, select only \"cand_nm\",\"contbr_nm\", \"contb_receipt_amt\" columns, then name them as df2\n",
    "\n",
    "df2 = df1[[\"cand_nm\",\"contbr_nm\", \"contb_receipt_amt\"]]\n",
    "\n",
    "# Then display df2.head()\n",
    " \n",
    "\n",
    "\n",
    "df2.head()"
   ]
  },
  {
   "cell_type": "code",
   "execution_count": 19,
   "metadata": {},
   "outputs": [
    {
     "data": {
      "text/html": [
       "<div>\n",
       "<style scoped>\n",
       "    .dataframe tbody tr th:only-of-type {\n",
       "        vertical-align: middle;\n",
       "    }\n",
       "\n",
       "    .dataframe tbody tr th {\n",
       "        vertical-align: top;\n",
       "    }\n",
       "\n",
       "    .dataframe thead th {\n",
       "        text-align: right;\n",
       "    }\n",
       "</style>\n",
       "<table border=\"1\" class=\"dataframe\">\n",
       "  <thead>\n",
       "    <tr style=\"text-align: right;\">\n",
       "      <th></th>\n",
       "      <th>cand_nm</th>\n",
       "      <th>contbr_nm</th>\n",
       "      <th>contb_receipt_amt</th>\n",
       "    </tr>\n",
       "  </thead>\n",
       "  <tbody>\n",
       "    <tr>\n",
       "      <th>325136</th>\n",
       "      <td>Obama, Barack</td>\n",
       "      <td>OBAMA VICTORY FUND 2012 - UNITEMIZED</td>\n",
       "      <td>2014490.51</td>\n",
       "    </tr>\n",
       "    <tr>\n",
       "      <th>326651</th>\n",
       "      <td>Obama, Barack</td>\n",
       "      <td>OBAMA VICTORY FUND 2012 - UNITEMIZED</td>\n",
       "      <td>1944042.43</td>\n",
       "    </tr>\n",
       "    <tr>\n",
       "      <th>344539</th>\n",
       "      <td>Obama, Barack</td>\n",
       "      <td>OBAMA VICTORY FUND 2012 - UNITEMIZED</td>\n",
       "      <td>1679114.65</td>\n",
       "    </tr>\n",
       "    <tr>\n",
       "      <th>344419</th>\n",
       "      <td>Obama, Barack</td>\n",
       "      <td>OBAMA VICTORY FUND 2012 - UNITEMIZED</td>\n",
       "      <td>1511192.17</td>\n",
       "    </tr>\n",
       "    <tr>\n",
       "      <th>319478</th>\n",
       "      <td>Obama, Barack</td>\n",
       "      <td>OBAMA VICTORY FUND 2012 - UNITEMIZED</td>\n",
       "      <td>526246.17</td>\n",
       "    </tr>\n",
       "    <tr>\n",
       "      <th>335187</th>\n",
       "      <td>Obama, Barack</td>\n",
       "      <td>OBAMA VICTORY FUND 2012 - UNITEMIZED</td>\n",
       "      <td>512710.91</td>\n",
       "    </tr>\n",
       "    <tr>\n",
       "      <th>257270</th>\n",
       "      <td>Obama, Barack</td>\n",
       "      <td>OBAMA VICTORY FUND 2012 - UNITEMIZED</td>\n",
       "      <td>451726.00</td>\n",
       "    </tr>\n",
       "    <tr>\n",
       "      <th>114754</th>\n",
       "      <td>Obama, Barack</td>\n",
       "      <td>MURPHY, CYNTHIA C.</td>\n",
       "      <td>33300.00</td>\n",
       "    </tr>\n",
       "    <tr>\n",
       "      <th>217891</th>\n",
       "      <td>Obama, Barack</td>\n",
       "      <td>DAVIS, STEPHEN JAMES</td>\n",
       "      <td>25800.00</td>\n",
       "    </tr>\n",
       "    <tr>\n",
       "      <th>834301</th>\n",
       "      <td>Paul, Ron</td>\n",
       "      <td>LIBERTY PAC</td>\n",
       "      <td>25000.00</td>\n",
       "    </tr>\n",
       "    <tr>\n",
       "      <th>823345</th>\n",
       "      <td>Paul, Ron</td>\n",
       "      <td>SOUTH CAROLINA REPUBLICAN PARTY</td>\n",
       "      <td>25000.00</td>\n",
       "    </tr>\n",
       "    <tr>\n",
       "      <th>65131</th>\n",
       "      <td>Romney, Mitt</td>\n",
       "      <td>NORPAC</td>\n",
       "      <td>12700.00</td>\n",
       "    </tr>\n",
       "    <tr>\n",
       "      <th>708898</th>\n",
       "      <td>Pawlenty, Timothy</td>\n",
       "      <td>ANDRESEN, MATTHEW F. MR.</td>\n",
       "      <td>10000.00</td>\n",
       "    </tr>\n",
       "    <tr>\n",
       "      <th>711167</th>\n",
       "      <td>Pawlenty, Timothy</td>\n",
       "      <td>QUESTROM, KELLI MRS.</td>\n",
       "      <td>10000.00</td>\n",
       "    </tr>\n",
       "    <tr>\n",
       "      <th>41888</th>\n",
       "      <td>Romney, Mitt</td>\n",
       "      <td>SILVERMAN, MORRIS MR.</td>\n",
       "      <td>10000.00</td>\n",
       "    </tr>\n",
       "  </tbody>\n",
       "</table>\n",
       "</div>"
      ],
      "text/plain": [
       "                  cand_nm                             contbr_nm  \\\n",
       "325136      Obama, Barack  OBAMA VICTORY FUND 2012 - UNITEMIZED   \n",
       "326651      Obama, Barack  OBAMA VICTORY FUND 2012 - UNITEMIZED   \n",
       "344539      Obama, Barack  OBAMA VICTORY FUND 2012 - UNITEMIZED   \n",
       "344419      Obama, Barack  OBAMA VICTORY FUND 2012 - UNITEMIZED   \n",
       "319478      Obama, Barack  OBAMA VICTORY FUND 2012 - UNITEMIZED   \n",
       "335187      Obama, Barack  OBAMA VICTORY FUND 2012 - UNITEMIZED   \n",
       "257270      Obama, Barack  OBAMA VICTORY FUND 2012 - UNITEMIZED   \n",
       "114754      Obama, Barack                    MURPHY, CYNTHIA C.   \n",
       "217891      Obama, Barack                  DAVIS, STEPHEN JAMES   \n",
       "834301          Paul, Ron                           LIBERTY PAC   \n",
       "823345          Paul, Ron       SOUTH CAROLINA REPUBLICAN PARTY   \n",
       "65131        Romney, Mitt                                NORPAC   \n",
       "708898  Pawlenty, Timothy              ANDRESEN, MATTHEW F. MR.   \n",
       "711167  Pawlenty, Timothy                  QUESTROM, KELLI MRS.   \n",
       "41888        Romney, Mitt                 SILVERMAN, MORRIS MR.   \n",
       "\n",
       "        contb_receipt_amt  \n",
       "325136         2014490.51  \n",
       "326651         1944042.43  \n",
       "344539         1679114.65  \n",
       "344419         1511192.17  \n",
       "319478          526246.17  \n",
       "335187          512710.91  \n",
       "257270          451726.00  \n",
       "114754           33300.00  \n",
       "217891           25800.00  \n",
       "834301           25000.00  \n",
       "823345           25000.00  \n",
       "65131            12700.00  \n",
       "708898           10000.00  \n",
       "711167           10000.00  \n",
       "41888            10000.00  "
      ]
     },
     "execution_count": 19,
     "metadata": {},
     "output_type": "execute_result"
    }
   ],
   "source": [
    "# (2) Find and display the df2's top 15 records in \"contb_receipt_amt\"\n",
    "\n",
    "\n",
    "\n",
    "df2.sort_values(\"contb_receipt_amt\", ascending=False).head(15)"
   ]
  },
  {
   "cell_type": "code",
   "execution_count": 20,
   "metadata": {
    "ExecuteTime": {
     "end_time": "2021-12-06T20:06:33.534584Z",
     "start_time": "2021-12-06T20:06:33.528599Z"
    }
   },
   "outputs": [
    {
     "data": {
      "text/plain": [
       "cand_nm\n",
       "Obama, Barack                     1.335026e+08\n",
       "Romney, Mitt                      8.521925e+07\n",
       "Paul, Ron                         2.072257e+07\n",
       "Perry, Rick                       1.841151e+07\n",
       "Gingrich, Newt                    1.201183e+07\n",
       "Santorum, Rick                    1.072809e+07\n",
       "Cain, Herman                      7.047265e+06\n",
       "Pawlenty, Timothy                 4.255054e+06\n",
       "Huntsman, Jon                     3.204350e+06\n",
       "Bachmann, Michelle                2.677435e+06\n",
       "Johnson, Gary Earl                5.669616e+05\n",
       "Roemer, Charles E. 'Buddy' III    3.674575e+05\n",
       "McCotter, Thaddeus G              3.703000e+04\n",
       "Name: contb_receipt_amt, dtype: float64"
      ]
     },
     "execution_count": 20,
     "metadata": {},
     "output_type": "execute_result"
    }
   ],
   "source": [
    "# (3) find out the total \"contb_receipt_amounts\" of each candidate received, \n",
    "# then display the total amounts in descending order with candiate names  \n",
    "\n",
    "\n",
    "grouped = df2.groupby(\"cand_nm\")[\"contb_receipt_amt\"].sum()\n",
    "grouped.sort_values(ascending=False, inplace = True)\n",
    "grouped"
   ]
  },
  {
   "cell_type": "code",
   "execution_count": 21,
   "metadata": {
    "ExecuteTime": {
     "end_time": "2021-12-06T20:01:29.328349Z",
     "start_time": "2021-12-06T20:01:29.085550Z"
    }
   },
   "outputs": [
    {
     "data": {
      "text/plain": [
       "<AxesSubplot:xlabel='cand_nm'>"
      ]
     },
     "execution_count": 21,
     "metadata": {},
     "output_type": "execute_result"
    },
    {
     "data": {
      "image/png": "[encoded data removed]",
      "text/plain": [
       "<Figure size 720x360 with 1 Axes>"
      ]
     },
     "metadata": {
      "needs_background": "light"
     },
     "output_type": "display_data"
    }
   ],
   "source": [
    "# (4) Plot bar chart for the total amounts for all candidates in descending order\n",
    "\n",
    "\n",
    "\n",
    "grouped.plot(kind = 'bar', figsize = (10, 5))"
   ]
  },
  {
   "cell_type": "markdown",
   "metadata": {},
   "source": [
    "## (4) df3, df4, df5: Group by states and values sorting<span class=\"mark\">(15%)</span>"
   ]
  },
  {
   "cell_type": "code",
   "execution_count": 22,
   "metadata": {
    "ExecuteTime": {
     "end_time": "2021-12-06T20:07:25.072538Z",
     "start_time": "2021-12-06T20:07:25.061526Z"
    }
   },
   "outputs": [
    {
     "data": {
      "text/plain": [
       "contbr_st\n",
       "AA      51066.20\n",
       "AB       2048.00\n",
       "AE     118010.08\n",
       "AF        495.00\n",
       "AK     591919.67\n",
       "         ...    \n",
       "WI    2066481.48\n",
       "WV     612923.97\n",
       "WY     702642.06\n",
       "XX     448397.00\n",
       "ZZ      35408.22\n",
       "Name: contb_receipt_amt, Length: 74, dtype: float64"
      ]
     },
     "execution_count": 22,
     "metadata": {},
     "output_type": "execute_result"
    }
   ],
   "source": [
    "# From df1:  find total amount of \"contb_receipt_amt\" for each state, then then name it as df3\n",
    "\n",
    "df3 = df1.groupby(\"contbr_st\")[\"contb_receipt_amt\"].sum()\n",
    "\n",
    "\n",
    "# display df3\n",
    "\n",
    "df3"
   ]
  },
  {
   "cell_type": "code",
   "execution_count": 23,
   "metadata": {
    "ExecuteTime": {
     "end_time": "2021-12-06T20:07:59.820527Z",
     "start_time": "2021-12-06T20:07:59.806567Z"
    }
   },
   "outputs": [
    {
     "name": "stdout",
     "output_type": "stream",
     "text": [
      "All US states: 51\n"
     ]
    },
    {
     "data": {
      "text/html": [
       "<div>\n",
       "<style scoped>\n",
       "    .dataframe tbody tr th:only-of-type {\n",
       "        vertical-align: middle;\n",
       "    }\n",
       "\n",
       "    .dataframe tbody tr th {\n",
       "        vertical-align: top;\n",
       "    }\n",
       "\n",
       "    .dataframe thead th {\n",
       "        text-align: right;\n",
       "    }\n",
       "</style>\n",
       "<table border=\"1\" class=\"dataframe\">\n",
       "  <thead>\n",
       "    <tr style=\"text-align: right;\">\n",
       "      <th></th>\n",
       "      <th>State</th>\n",
       "    </tr>\n",
       "    <tr>\n",
       "      <th>contbr_st</th>\n",
       "      <th></th>\n",
       "    </tr>\n",
       "  </thead>\n",
       "  <tbody>\n",
       "    <tr>\n",
       "      <th>AL</th>\n",
       "      <td>Alabama</td>\n",
       "    </tr>\n",
       "    <tr>\n",
       "      <th>AK</th>\n",
       "      <td>Alaska</td>\n",
       "    </tr>\n",
       "    <tr>\n",
       "      <th>AZ</th>\n",
       "      <td>Arizona</td>\n",
       "    </tr>\n",
       "    <tr>\n",
       "      <th>AR</th>\n",
       "      <td>Arkansas</td>\n",
       "    </tr>\n",
       "    <tr>\n",
       "      <th>CA</th>\n",
       "      <td>California</td>\n",
       "    </tr>\n",
       "  </tbody>\n",
       "</table>\n",
       "</div>"
      ],
      "text/plain": [
       "                State\n",
       "contbr_st            \n",
       "AL            Alabama\n",
       "AK             Alaska\n",
       "AZ            Arizona\n",
       "AR           Arkansas\n",
       "CA         California"
      ]
     },
     "execution_count": 23,
     "metadata": {},
     "output_type": "execute_result"
    }
   ],
   "source": [
    "##  CODE GIVEN ##\n",
    "\n",
    "# df3 above shows that there are 74 contribution states (some are not among the US 50 states pluse DC.)\n",
    "\n",
    "# we read in US code_2 (file name: states_code2.csv) first, then merge two dfs to get 5:\n",
    "df_code2 = pd.read_csv(\"states_code2.csv\", usecols=[1, 2], index_col = 1) \n",
    "df_code2.index.name=\"contbr_st\"\n",
    "\n",
    "\n",
    "print(\"All US states:\", len(df_code2))\n",
    "df_code2.head()\n",
    "\n"
   ]
  },
  {
   "cell_type": "code",
   "execution_count": 24,
   "metadata": {},
   "outputs": [
    {
     "name": "stdout",
     "output_type": "stream",
     "text": [
      "           contb_receipt_amt                 State\n",
      "contbr_st                                         \n",
      "AK                 591919.67                Alaska\n",
      "AL                1801841.62               Alabama\n",
      "AR                 793337.44              Arkansas\n",
      "AZ                4847466.40               Arizona\n",
      "CA               43118223.68            California\n",
      "CO                5097332.53              Colorado\n",
      "CT                6249305.60           Connecticut\n",
      "DC                5645902.42  District of Columbia\n",
      "DE                 526175.93              Delaware\n",
      "FL               20904918.76               Florida\n",
      "GA                7727072.36               Georgia\n",
      "HI                1112583.23                Hawaii\n",
      "IA                1510172.38                  Iowa\n",
      "ID                1304392.12                 Idaho\n",
      "IL               22011790.66              Illinois\n",
      "IN                2197188.93               Indiana\n",
      "KS                1397177.88                Kansas\n",
      "KY                1848325.55              Kentucky\n",
      "LA                3112314.77             Louisiana\n",
      "MA               12054402.40         Massachusetts\n",
      "MD                7399940.09              Maryland\n",
      "ME                1448403.16                 Maine\n",
      "MI                6123892.91              Michigan\n",
      "MN                4024812.99             Minnesota\n",
      "MO                3625196.65              Missouri\n",
      "MS                 928634.37           Mississippi\n",
      "MT                 710845.74               Montana\n",
      "NC                4873188.46        North Carolina\n",
      "ND                 277473.66          North Dakota\n",
      "NE                 792859.67              Nebraska\n",
      "NH                1517901.39         New Hampshire\n",
      "NJ                7686113.38            New Jersey\n",
      "NM                1543859.33            New Mexico\n",
      "NV                2500456.10                Nevada\n",
      "NY               27444922.03              New York\n",
      "OH                5441391.82                  Ohio\n",
      "OK                2600941.78              Oklahoma\n",
      "OR                2366458.67                Oregon\n",
      "PA                8520262.85          Pennsylvania\n",
      "RI                 754972.64          Rhode Island\n",
      "SC                1967014.98        South Carolina\n",
      "SD                 444492.70          South Dakota\n",
      "TN                4155495.07             Tennessee\n",
      "TX               30405507.20                 Texas\n",
      "UT                4815138.11                  Utah\n",
      "VA                9788893.45              Virginia\n",
      "VT                1139804.94               Vermont\n",
      "WA                6919855.26            Washington\n",
      "WI                2066481.48             Wisconsin\n",
      "WV                 612923.97         West Virginia\n",
      "WY                 702642.06               Wyoming\n",
      "df4 shape: (51, 2)\n"
     ]
    }
   ],
   "source": [
    "# Please use df_code2 and df3 to create a dataframe df4 which holds only 51 US states' contributions (use join or merge) \n",
    "\n",
    "\n",
    "df4 = pd.merge(df3,df_code2,on='contbr_st')\n",
    "# diplay df4\n",
    "\n",
    "print(df4)\n",
    "\n",
    "# df4.shape \n",
    "\n",
    "print(\"df4 shape:\", df4.shape)\n"
   ]
  },
  {
   "cell_type": "code",
   "execution_count": 25,
   "metadata": {
    "ExecuteTime": {
     "end_time": "2021-12-06T20:02:33.027310Z",
     "start_time": "2021-12-06T20:02:32.803815Z"
    }
   },
   "outputs": [
    {
     "data": {
      "text/plain": [
       "<AxesSubplot:xlabel='contbr_st'>"
      ]
     },
     "execution_count": 25,
     "metadata": {},
     "output_type": "execute_result"
    },
    {
     "data": {
      "image/png": "[encoded data removed]",
      "text/plain": [
       "<Figure size 432x288 with 1 Axes>"
      ]
     },
     "metadata": {
      "needs_background": "light"
     },
     "output_type": "display_data"
    },
    {
     "data": {
      "image/png": "[encoded data removed]",
      "text/plain": [
       "<Figure size 1080x360 with 1 Axes>"
      ]
     },
     "metadata": {
      "needs_background": "light"
     },
     "output_type": "display_data"
    }
   ],
   "source": [
    "# plot the top 10 US states in \"contb_receipt_amt\"\n",
    "\n",
    "\n",
    "\n",
    "df4.sort_values('contb_receipt_amt', ascending = False).head(10).plot(kind='bar')\n",
    "df4.sort_values('contb_receipt_amt', ascending = False).head(10).plot(figsize = (15,5))"
   ]
  },
  {
   "cell_type": "code",
   "execution_count": 26,
   "metadata": {
    "ExecuteTime": {
     "end_time": "2021-12-06T20:02:36.573843Z",
     "start_time": "2021-12-06T20:02:36.555858Z"
    }
   },
   "outputs": [
    {
     "name": "stdout",
     "output_type": "stream",
     "text": [
      "0     AA\n",
      "1     AB\n",
      "2     AE\n",
      "3     AF\n",
      "6     AP\n",
      "8     AS\n",
      "10    BR\n",
      "16    FF\n",
      "18    FM\n",
      "20    GU\n",
      "35    MP\n",
      "44    NS\n",
      "49    ON\n",
      "52    PE\n",
      "53    PR\n",
      "54    QU\n",
      "58    SO\n",
      "59    TE\n",
      "62    UK\n",
      "65    VI\n",
      "68    WE\n",
      "72    XX\n",
      "73    ZZ\n",
      "dtype: object\n"
     ]
    }
   ],
   "source": [
    "# (optional) find all other states which are not in the 51 states.\n",
    "ser1 = pd.Series(df4.index)\n",
    "ser2 = pd.Series(df3.index)\n",
    "union = pd.Series(np.union1d(ser1, ser2))\n",
    "intersect = pd.Series(np.intersect1d(ser1, ser2))\n",
    "other_states = union[~union.isin(intersect)]\n",
    "# print  them out\n",
    "\n",
    "print(other_states)"
   ]
  },
  {
   "cell_type": "markdown",
   "metadata": {},
   "source": [
    "---"
   ]
  },
  {
   "cell_type": "markdown",
   "metadata": {},
   "source": [
    "## (5)  Boolean indexing  (conditional selection)<span class=\"mark\">(20%)</span>"
   ]
  },
  {
   "cell_type": "code",
   "execution_count": 27,
   "metadata": {
    "ExecuteTime": {
     "end_time": "2021-12-06T20:09:16.958200Z",
     "start_time": "2021-12-06T20:09:16.954235Z"
    }
   },
   "outputs": [
    {
     "name": "stdout",
     "output_type": "stream",
     "text": [
      "593746  rows\n"
     ]
    }
   ],
   "source": [
    "# Obama's dataset: still start from df1\n",
    "# keek only those rows in which the \"cand_nm\"  is \"Obama, Barack\" \n",
    "obama = df1[df1[\"cand_nm\"] == \"Obama, Barack\"]\n",
    "# print out how many rows\n",
    "\n",
    "\n",
    "print(obama.shape[0], \" rows\")\n"
   ]
  },
  {
   "cell_type": "code",
   "execution_count": 28,
   "metadata": {
    "ExecuteTime": {
     "end_time": "2021-12-06T21:50:28.262117Z",
     "start_time": "2021-12-06T21:50:28.255108Z"
    }
   },
   "outputs": [
    {
     "name": "stdout",
     "output_type": "stream",
     "text": [
      "The amount of total contributions to Obama is 133502591.45\n"
     ]
    }
   ],
   "source": [
    "# The amount of total contributions to him ($ amount)\n",
    "\n",
    "\n",
    "\n",
    "\n",
    "\n",
    "\n",
    "print(\"The amount of total contributions to Obama is\", obama['contb_receipt_amt'].sum())"
   ]
  },
  {
   "cell_type": "code",
   "execution_count": 29,
   "metadata": {
    "ExecuteTime": {
     "end_time": "2021-12-06T20:09:55.327255Z",
     "start_time": "2021-12-06T20:09:55.314290Z"
    }
   },
   "outputs": [
    {
     "name": "stdout",
     "output_type": "stream",
     "text": [
      "the number of small donations is: 438321\n",
      "The total amount of donations is: 593746\n",
      "The total amount of small donations is: 24197815.340000004\n"
     ]
    }
   ],
   "source": [
    "# For \"Obama, Barack\"\" again: SMALL DONATION is defined as amount in between 0 and 200:\n",
    "\n",
    "small = obama['contb_receipt_amt'].loc[(obama['contb_receipt_amt']>0) & (obama['contb_receipt_amt']<200)]\n",
    "\n",
    "# find out the number of small donations: each donation has dollar amount larger than 0  but less than 200. \n",
    "print(\"the number of small donations is:\", len(small))\n",
    "\n",
    "\n",
    "# The number of donations (number of rows)\n",
    "print(\"The total amount of donations is:\", obama.shape[0])\n",
    "\n",
    "\n",
    "# The total amount within this range (0, 200)\n",
    "\n",
    "print(\"The total amount of small donations is:\", small.values.sum())"
   ]
  },
  {
   "cell_type": "code",
   "execution_count": 30,
   "metadata": {
    "ExecuteTime": {
     "end_time": "2021-12-06T20:10:03.870408Z",
     "start_time": "2021-12-06T20:10:03.862428Z"
    }
   },
   "outputs": [
    {
     "name": "stdout",
     "output_type": "stream",
     "text": [
      "The percentange of the number of small amount donations is: 73.82298154429672%\n",
      "The percentange of the amount of small donations is 18.12535253224854%\n"
     ]
    }
   ],
   "source": [
    "# Calculate the percentages: \n",
    "\n",
    "# (1) the number of small amount donations to the total number of donations\n",
    "\n",
    "print(f\"The percentange of the number of small amount donations is: {len(small)/obama.shape[0]*100}%\")\n",
    "\n",
    "# (2) the amount of small donations to total amount of donations\n",
    "\n",
    "\n",
    "print(f\"The percentange of the amount of small donations is {small.values.sum()/obama['contb_receipt_amt'].sum()*100}%\")"
   ]
  },
  {
   "cell_type": "markdown",
   "metadata": {},
   "source": [
    "---\n",
    "### Now for \"Romney\": DO THE SAME"
   ]
  },
  {
   "cell_type": "code",
   "execution_count": 31,
   "metadata": {
    "ExecuteTime": {
     "end_time": "2021-12-06T20:11:50.467701Z",
     "start_time": "2021-12-06T20:11:50.448753Z"
    }
   },
   "outputs": [
    {
     "name": "stdout",
     "output_type": "stream",
     "text": [
      "The total amount of donations is: 107229\n",
      "The total amount of all donations is: 85219248.98\n",
      "the number of small donations is: 38820\n",
      "The total amount of small donations is: 2460298.48\n",
      "The percentange of the number of small amount donations is: 36.2028928741292%\n",
      "The percentange of the amount of small donations is 2.887022016090994%\n"
     ]
    }
   ],
   "source": [
    "# For \"Romney, Mitt\": do the same\n",
    "romney = df1[df1[\"cand_nm\"] == \"Romney, Mitt\"]\n",
    "\n",
    "#Total number of all donations\n",
    "\n",
    "print(\"The total amount of donations is:\", romney.shape[0])\n",
    "# Total amount of all donations\n",
    "\n",
    "print(\"The total amount of all donations is:\",romney['contb_receipt_amt'].sum())\n",
    "# For small donations,  \n",
    "small = romney['contb_receipt_amt'].loc[(romney['contb_receipt_amt']>0) & (romney['contb_receipt_amt']<200)]\n",
    "\n",
    "# how many rows\n",
    "\n",
    "print(\"the number of small donations is:\", len(small))\n",
    "\n",
    "# total small amounts\n",
    "\n",
    "print(\"The total amount of small donations is:\", small.values.sum())\n",
    "# cal the percentage: the number of small donation to the total number of donations\n",
    "print(f\"The percentange of the number of small amount donations is: {len(small)/romney.shape[0]*100}%\")\n",
    "\n",
    "# cal the percentage:  total small amount to total amount\n",
    "\n",
    "print(f\"The percentange of the amount of small donations is {small.values.sum()/romney['contb_receipt_amt'].sum()*100}%\")\n",
    "\n"
   ]
  },
  {
   "cell_type": "markdown",
   "metadata": {},
   "source": [
    "## (5) Zip code <span class=\"mark\">(10%)</span>"
   ]
  },
  {
   "cell_type": "code",
   "execution_count": 32,
   "metadata": {
    "ExecuteTime": {
     "end_time": "2021-12-06T20:03:12.959098Z",
     "start_time": "2021-12-06T20:03:12.902258Z"
    }
   },
   "outputs": [
    {
     "name": "stdout",
     "output_type": "stream",
     "text": [
      "111\n",
      "<class 'float'>\n",
      "<class 'str'>\n"
     ]
    },
    {
     "data": {
      "text/plain": [
       "'V6K2Z3'"
      ]
     },
     "execution_count": 32,
     "metadata": {},
     "output_type": "execute_result"
    }
   ],
   "source": [
    "# First, check the contbr_zip column of df1 using new name df_zip\n",
    "df_zip = df1.contbr_zip \n",
    "\n",
    "df_zip.dtypes  # which contains mixed type data\n",
    "\n",
    "\n",
    "# - some are int type,  float type,  or obj type (string), \n",
    "# - some are 5-digit,  or 5-digit + 4-digit, or shorter, even missing\n",
    "\n",
    "# - For your reference: let us check some of them\n",
    "print(df_zip.isna().sum())          # check missing values: 111 total\n",
    "\n",
    "print(type(df_zip[0]))                    # check the type of the first example: float\n",
    "\n",
    "print(type(df_zip[100000]))              # check the type last example: string\n",
    "\n",
    "df_zip[126538]               # V6K2Z3', some zip_codes from Canada or other countries. \n",
    " \n"
   ]
  },
  {
   "cell_type": "markdown",
   "metadata": {},
   "source": [
    "## You need to do the following data processing using df_zip :\n",
    "  - Keep only 5-digit zip codes:   \n",
    "      - if zip length is 5 long and all are digits, zip has no change.\n",
    "      - if zip is missing, assign it \"99999\"\n",
    "      - if zip length is less than 5, assign it as \"99999\"\n",
    "      - if the length is longer than 5, keep only the first 5 digits.\n",
    "          but they must be digits, otherwise assign \"99999\",   \n",
    "      \n",
    "    \n",
    "   - display the total number of rows, the first 10 zip_codes and last 10 zip_codes after conversion\n",
    "\n",
    "  \n",
    "---\n",
    "Hints:  \n",
    " - work only on the  df_zip \n",
    " - use dataframe or series \n",
    " - need to define function \n",
    "     - map this function to your data series, or applymap it to dataframe\n",
    " - if you use a loop, it will be very slow. "
   ]
  },
  {
   "cell_type": "code",
   "execution_count": 33,
   "metadata": {
    "ExecuteTime": {
     "end_time": "2021-12-06T20:11:28.937228Z",
     "start_time": "2021-12-06T20:11:28.923266Z"
    }
   },
   "outputs": [
    {
     "name": "stdout",
     "output_type": "stream",
     "text": [
      "Total Number of Rows: 1001731\n",
      "First 10 rows: \n",
      " 0    36601\n",
      "1    36601\n",
      "2    36863\n",
      "3    72454\n",
      "4    71901\n",
      "5    72764\n",
      "6    72454\n",
      "7    72454\n",
      "8    85210\n",
      "9    85749\n",
      "Name: contbr_zip, dtype: object\n",
      "Last 10 rows: \n",
      " 1001721    82001\n",
      "1001722    82435\n",
      "1001723    82435\n",
      "1001724    99999\n",
      "1001725    99999\n",
      "1001726    99999\n",
      "1001727    99999\n",
      "1001728    99999\n",
      "1001729    99999\n",
      "1001730    99999\n",
      "Name: contbr_zip, dtype: object\n"
     ]
    }
   ],
   "source": [
    "# your code here \n",
    "#df_zip.replace(np.nan, 99999)\n",
    "\n",
    "\n",
    "strings = df_zip.fillna('').astype(str)\n",
    "elements = strings.str[:5].where(strings.str.len().ge(5), 1)\n",
    "\n",
    "\n",
    "print(\"Total Number of Rows:\", len(elements))\n",
    "print(\"First 10 rows: \\n\", elements.head(10))\n",
    "print(\"Last 10 rows: \\n\", elements.tail(10))"
   ]
  },
  {
   "cell_type": "markdown",
   "metadata": {},
   "source": [
    "# THIS THE SAMPLE OUTPUT\n",
    "\n",
    "    Total Number of Rows: 1001731\n",
    "    The first 10 rows:\n",
    "    0    36601\n",
    "    1    36601\n",
    "    2    36863\n",
    "    3    72454\n",
    "    4    71901\n",
    "    5    72764\n",
    "    6    72454\n",
    "    7    72454\n",
    "    8    85210\n",
    "    9    85749\n",
    "    Name: contbr_zip, dtype: object\n",
    "    The last 10 rows:\n",
    "    1001721    82001\n",
    "    1001722    82435\n",
    "    1001723    82435\n",
    "    1001724    99999\n",
    "    1001725    99999\n",
    "    1001726    99999\n",
    "    1001727    99999\n",
    "    1001728    99999\n",
    "    1001729    99999\n",
    "    1001730    99999\n",
    "    Name: contbr_zip, dtype: object"
   ]
  },
  {
   "cell_type": "code",
   "execution_count": 34,
   "metadata": {},
   "outputs": [],
   "source": [
    "#END"
   ]
  }
 ],
 "metadata": {
  "kernelspec": {
   "display_name": "Python 3 (ipykernel)",
   "language": "python",
   "name": "python3"
  },
  "language_info": {
   "codemirror_mode": {
    "name": "ipython",
    "version": 3
   },
   "file_extension": ".py",
   "mimetype": "text/x-python",
   "name": "python",
   "nbconvert_exporter": "python",
   "pygments_lexer": "ipython3",
   "version": "3.10.1"
  },
  "toc": {
   "base_numbering": 1,
   "nav_menu": {},
   "number_sections": true,
   "sideBar": true,
   "skip_h1_title": false,
   "title_cell": "Table of Contents",
   "title_sidebar": "Contents",
   "toc_cell": false,
   "toc_position": {},
   "toc_section_display": true,
   "toc_window_display": false
  },
  "varInspector": {
   "cols": {
    "lenName": 16,
    "lenType": 16,
    "lenVar": 40
   },
   "kernels_config": {
    "python": {
     "delete_cmd_postfix": "",
     "delete_cmd_prefix": "del ",
     "library": "var_list.py",
     "varRefreshCmd": "print(var_dic_list())"
    },
    "r": {
     "delete_cmd_postfix": ") ",
     "delete_cmd_prefix": "rm(",
     "library": "var_list.r",
     "varRefreshCmd": "cat(var_dic_list()) "
    }
   },
   "types_to_exclude": [
    "module",
    "function",
    "builtin_function_or_method",
    "instance",
    "_Feature"
   ],
   "window_display": false
  }
 },
 "nbformat": 4,
 "nbformat_minor": 4
}
